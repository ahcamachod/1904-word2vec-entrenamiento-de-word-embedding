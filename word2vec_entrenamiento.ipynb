{
  "nbformat": 4,
  "nbformat_minor": 0,
  "metadata": {
    "colab": {
      "name": "word2vec_entrenamiento",
      "provenance": [],
      "authorship_tag": "ABX9TyMPuU2aeYNmdjnTe7N0Zfg0",
      "include_colab_link": true
    },
    "kernelspec": {
      "name": "python3",
      "display_name": "Python 3"
    },
    "language_info": {
      "name": "python"
    }
  },
  "cells": [
    {
      "cell_type": "markdown",
      "metadata": {
        "id": "view-in-github",
        "colab_type": "text"
      },
      "source": [
        "<a href=\"https://colab.research.google.com/github/ahcamachod/1904-word2vec-entrenamiento-de-word-embedding/blob/main/word2vec_entrenamiento.ipynb\" target=\"_parent\"><img src=\"https://colab.research.google.com/assets/colab-badge.svg\" alt=\"Open In Colab\"/></a>"
      ]
    },
    {
      "cell_type": "markdown",
      "source": [
        "#Word2Vec: Entrenamiento de Word Embedding\n",
        "\n",
        "En este notebook encontrarás el desarrollo del proyecto para modelar tus propias representaciones de Word Embedding utilizando **Word2Vec** .\n",
        "\n",
        "\n",
        "Los principales recursos de Python que utilizaremos como base para nuestro modelaje se encuentran en:\n",
        "\n",
        "\n",
        "*https://spacy.io/*\n",
        "\n",
        "*https://radimrehurek.com/gensim/models/word2vec.html*\n",
        "\n",
        "\n",
        "La documentación referente al diseño de las arquitecturas Word2Vec la encontramos en:\n",
        "\n",
        "\n",
        "*https://arxiv.org/pdf/1301.3781.pdf*"
      ],
      "metadata": {
        "id": "Npq9KuJ0XUQQ"
      }
    },
    {
      "cell_type": "markdown",
      "source": [
        "## Aula 1"
      ],
      "metadata": {
        "id": "8yhYl-Hza-ry"
      }
    },
    {
      "cell_type": "markdown",
      "source": [
        "### 1.2 Iniciando con spacy"
      ],
      "metadata": {
        "id": "k00CIiN3audI"
      }
    },
    {
      "cell_type": "code",
      "source": [
        ""
      ],
      "metadata": {
        "id": "uFSyU0WXayiK"
      },
      "execution_count": null,
      "outputs": []
    },
    {
      "cell_type": "markdown",
      "source": [
        "### 1.3 Spacy y sus estructuras"
      ],
      "metadata": {
        "id": "nS0BHqw7a0WU"
      }
    },
    {
      "cell_type": "code",
      "source": [
        ""
      ],
      "metadata": {
        "id": "2MvB-jvybIw3"
      },
      "execution_count": null,
      "outputs": []
    },
    {
      "cell_type": "markdown",
      "source": [
        "## Aula 2"
      ],
      "metadata": {
        "id": "FnGG3RMibMjR"
      }
    },
    {
      "cell_type": "markdown",
      "source": [
        "### 2.1 Preprocesamiento de los datos"
      ],
      "metadata": {
        "id": "zyfdQuI8bPW_"
      }
    },
    {
      "cell_type": "code",
      "source": [
        ""
      ],
      "metadata": {
        "id": "9nMBvxYkbODh"
      },
      "execution_count": null,
      "outputs": []
    },
    {
      "cell_type": "markdown",
      "source": [
        "### 2.2 Optimizando el tratamiento de los datos"
      ],
      "metadata": {
        "id": "8vuuJFVSbS8J"
      }
    },
    {
      "cell_type": "code",
      "source": [
        ""
      ],
      "metadata": {
        "id": "1fYZ2OwNbake"
      },
      "execution_count": null,
      "outputs": []
    },
    {
      "cell_type": "markdown",
      "source": [
        "## Aula 3"
      ],
      "metadata": {
        "id": "Mh-HYjArbeMS"
      }
    },
    {
      "cell_type": "markdown",
      "source": [
        "### 3.1 Hiperparámetros de Word2Vec"
      ],
      "metadata": {
        "id": "bFVStKr3bgd4"
      }
    },
    {
      "cell_type": "code",
      "source": [
        ""
      ],
      "metadata": {
        "id": "EDC46PmXbfy7"
      },
      "execution_count": null,
      "outputs": []
    },
    {
      "cell_type": "markdown",
      "source": [
        "### 3.2 Avanzando en los hiperparámetros"
      ],
      "metadata": {
        "id": "96E9bFgSblvH"
      }
    },
    {
      "cell_type": "code",
      "source": [
        ""
      ],
      "metadata": {
        "id": "z9N94YRQbtHm"
      },
      "execution_count": null,
      "outputs": []
    },
    {
      "cell_type": "markdown",
      "source": [
        "### 3.3 Vocabulario Word2Vec"
      ],
      "metadata": {
        "id": "_mHrhwMdbx-t"
      }
    },
    {
      "cell_type": "code",
      "source": [
        ""
      ],
      "metadata": {
        "id": "nCAku5JXb6ft"
      },
      "execution_count": null,
      "outputs": []
    },
    {
      "cell_type": "markdown",
      "source": [
        "## Aula 4"
      ],
      "metadata": {
        "id": "GyrTRkhqb-kT"
      }
    },
    {
      "cell_type": "markdown",
      "source": [
        "### 4.1 Entrenando el modelo CBOW"
      ],
      "metadata": {
        "id": "k_c0Ib1acCe7"
      }
    },
    {
      "cell_type": "code",
      "source": [
        ""
      ],
      "metadata": {
        "id": "_aOvOqDDb7Lr"
      },
      "execution_count": null,
      "outputs": []
    },
    {
      "cell_type": "markdown",
      "source": [
        "### 4.2 Entrenando el modelo Skip Gram"
      ],
      "metadata": {
        "id": "rMvPNYUHcHdE"
      }
    },
    {
      "cell_type": "code",
      "source": [
        ""
      ],
      "metadata": {
        "id": "2qOXaNZUcOpL"
      },
      "execution_count": null,
      "outputs": []
    },
    {
      "cell_type": "markdown",
      "source": [
        "## Aula 5"
      ],
      "metadata": {
        "id": "LwHxPZgjcRHg"
      }
    },
    {
      "cell_type": "markdown",
      "source": [
        "### 5.1 Iniciando el clasificador"
      ],
      "metadata": {
        "id": "1uo1Ui1vcTm3"
      }
    },
    {
      "cell_type": "code",
      "source": [
        ""
      ],
      "metadata": {
        "id": "vzG-idXgcS3n"
      },
      "execution_count": null,
      "outputs": []
    },
    {
      "cell_type": "markdown",
      "source": [
        "### 5.2 Combinación de vectores"
      ],
      "metadata": {
        "id": "fQgvCxlqcYvz"
      }
    },
    {
      "cell_type": "code",
      "source": [
        ""
      ],
      "metadata": {
        "id": "NwC_RH1jcdMW"
      },
      "execution_count": null,
      "outputs": []
    },
    {
      "cell_type": "markdown",
      "source": [
        "### 5.3 Vectorizando los titulares"
      ],
      "metadata": {
        "id": "gvWhQb_Dcd11"
      }
    },
    {
      "cell_type": "code",
      "source": [
        ""
      ],
      "metadata": {
        "id": "4h11DRHVcugZ"
      },
      "execution_count": null,
      "outputs": []
    },
    {
      "cell_type": "markdown",
      "source": [
        "## Aula 6"
      ],
      "metadata": {
        "id": "Augs1iQxcvC5"
      }
    },
    {
      "cell_type": "markdown",
      "source": [
        "### 6.1 Clasificando los titulares"
      ],
      "metadata": {
        "id": "CYssFj2rcw7e"
      }
    },
    {
      "cell_type": "code",
      "source": [
        ""
      ],
      "metadata": {
        "id": "kAG-G-nAcwGk"
      },
      "execution_count": null,
      "outputs": []
    },
    {
      "cell_type": "markdown",
      "source": [
        "### 6.2 Comparando los modelos"
      ],
      "metadata": {
        "id": "5tq_MJlXc4AS"
      }
    },
    {
      "cell_type": "code",
      "source": [
        ""
      ],
      "metadata": {
        "id": "OPokNSwDc9Z2"
      },
      "execution_count": null,
      "outputs": []
    }
  ]
}