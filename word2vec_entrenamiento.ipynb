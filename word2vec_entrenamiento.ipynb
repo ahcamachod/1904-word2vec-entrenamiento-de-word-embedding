{
  "nbformat": 4,
  "nbformat_minor": 0,
  "metadata": {
    "colab": {
      "name": "word2vec_entrenamiento",
      "provenance": [],
      "include_colab_link": true
    },
    "kernelspec": {
      "name": "python3",
      "display_name": "Python 3"
    },
    "language_info": {
      "name": "python"
    }
  },
  "cells": [
    {
      "cell_type": "markdown",
      "metadata": {
        "id": "view-in-github",
        "colab_type": "text"
      },
      "source": [
        "<a href=\"https://colab.research.google.com/github/ahcamachod/1904-word2vec-entrenamiento-de-word-embedding/blob/main/word2vec_entrenamiento.ipynb\" target=\"_parent\"><img src=\"https://colab.research.google.com/assets/colab-badge.svg\" alt=\"Open In Colab\"/></a>"
      ]
    },
    {
      "cell_type": "markdown",
      "source": [
        "#Word2Vec: Entrenamiento de Word Embedding\n",
        "\n",
        "En este notebook encontrarás el desarrollo del proyecto para modelar tus propias representaciones de Word Embedding utilizando **Word2Vec** .\n",
        "\n",
        "\n",
        "Los principales recursos de Python que utilizaremos como base para nuestro modelaje se encuentran en:\n",
        "\n",
        "\n",
        "*https://spacy.io/*\n",
        "\n",
        "*https://radimrehurek.com/gensim/models/word2vec.html*\n",
        "\n",
        "\n",
        "La documentación referente al diseño de las arquitecturas Word2Vec la encontramos en:\n",
        "\n",
        "\n",
        "*https://arxiv.org/pdf/1301.3781.pdf*"
      ],
      "metadata": {
        "id": "Npq9KuJ0XUQQ"
      }
    },
    {
      "cell_type": "markdown",
      "source": [
        "## Aula 1"
      ],
      "metadata": {
        "id": "8yhYl-Hza-ry"
      }
    },
    {
      "cell_type": "markdown",
      "source": [
        "### 1.2 Iniciando con spacy"
      ],
      "metadata": {
        "id": "k00CIiN3audI"
      }
    },
    {
      "cell_type": "code",
      "source": [
        "import logging \n",
        "\n",
        "logging.basicConfig(format='%(asctime)s - %(message)s', level=logging.INFO)"
      ],
      "metadata": {
        "id": "QgOMTTOYb816"
      },
      "execution_count": 1,
      "outputs": []
    },
    {
      "cell_type": "code",
      "source": [
        "from google.colab import drive\n",
        "drive.mount('/content/drive')"
      ],
      "metadata": {
        "colab": {
          "base_uri": "https://localhost:8080/"
        },
        "id": "ls2R_Ntg9Hh0",
        "outputId": "9a2e2f52-92f2-4405-9314-3304fe6c92a7"
      },
      "execution_count": 2,
      "outputs": [
        {
          "output_type": "stream",
          "name": "stdout",
          "text": [
            "Drive already mounted at /content/drive; to attempt to forcibly remount, call drive.mount(\"/content/drive\", force_remount=True).\n"
          ]
        }
      ]
    },
    {
      "cell_type": "code",
      "source": [
        "import pandas as pd\n",
        "\n",
        "noticias_train = pd.read_csv('/content/drive/MyDrive/word2vec/noticias_entrenamiento.csv')\n",
        "noticias_test = pd.read_csv('/content/drive/MyDrive/word2vec/noticias_prueba.csv')"
      ],
      "metadata": {
        "id": "uFSyU0WXayiK",
        "colab": {
          "base_uri": "https://localhost:8080/"
        },
        "outputId": "25650806-ae13-4417-fb79-fca559b1b3b5"
      },
      "execution_count": 3,
      "outputs": [
        {
          "output_type": "stream",
          "name": "stderr",
          "text": [
            "2022-05-21 16:26:58,041 - NumExpr defaulting to 2 threads.\n"
          ]
        }
      ]
    },
    {
      "cell_type": "code",
      "source": [
        "noticias_train.shape"
      ],
      "metadata": {
        "colab": {
          "base_uri": "https://localhost:8080/"
        },
        "id": "Zl-KbJKW9oRK",
        "outputId": "612944e0-42ad-472f-eee5-666f5710101d"
      },
      "execution_count": 4,
      "outputs": [
        {
          "output_type": "execute_result",
          "data": {
            "text/plain": [
              "(91844, 7)"
            ]
          },
          "metadata": {},
          "execution_count": 4
        }
      ]
    },
    {
      "cell_type": "code",
      "source": [
        "noticias_train.sample(2)"
      ],
      "metadata": {
        "colab": {
          "base_uri": "https://localhost:8080/",
          "height": 312
        },
        "id": "3eMwPHKz9oUP",
        "outputId": "c7e1295c-4829-46a0-97f8-5e7aec4b5408"
      },
      "execution_count": 5,
      "outputs": [
        {
          "output_type": "execute_result",
          "data": {
            "text/plain": [
              "                     fecha                                             titulo  \\\n",
              "46969  2022-03-17 12:33:17  Correos en Canarias niega que exista \"precarie...   \n",
              "36498  2022-04-03 22:51:17  Bad Bunny gana Grammy por mejor disco de músic...   \n",
              "\n",
              "      pais                                           extracto  \\\n",
              "46969   ES  Correos en Canarias se encuentra inmersa en un...   \n",
              "36498   PR          El cantante tiene otras seis nominaciones   \n",
              "\n",
              "                                                 resumen  \\\n",
              "46969  Oficina de Correos. Archivo Correos en Canaria...   \n",
              "36498  Benito Ocasio Martínez, conocido como 'Bad Bun...   \n",
              "\n",
              "                                                  enlace        categoria  \n",
              "46969  https://diariodeavisos.elespanol.com/2022/03/c...         economia  \n",
              "36498  https://www.metro.pr/entretenimiento/2022/04/0...  entretenimiento  "
            ],
            "text/html": [
              "\n",
              "  <div id=\"df-337ae5e5-40a8-4a42-956c-3fd4241c0c70\">\n",
              "    <div class=\"colab-df-container\">\n",
              "      <div>\n",
              "<style scoped>\n",
              "    .dataframe tbody tr th:only-of-type {\n",
              "        vertical-align: middle;\n",
              "    }\n",
              "\n",
              "    .dataframe tbody tr th {\n",
              "        vertical-align: top;\n",
              "    }\n",
              "\n",
              "    .dataframe thead th {\n",
              "        text-align: right;\n",
              "    }\n",
              "</style>\n",
              "<table border=\"1\" class=\"dataframe\">\n",
              "  <thead>\n",
              "    <tr style=\"text-align: right;\">\n",
              "      <th></th>\n",
              "      <th>fecha</th>\n",
              "      <th>titulo</th>\n",
              "      <th>pais</th>\n",
              "      <th>extracto</th>\n",
              "      <th>resumen</th>\n",
              "      <th>enlace</th>\n",
              "      <th>categoria</th>\n",
              "    </tr>\n",
              "  </thead>\n",
              "  <tbody>\n",
              "    <tr>\n",
              "      <th>46969</th>\n",
              "      <td>2022-03-17 12:33:17</td>\n",
              "      <td>Correos en Canarias niega que exista \"precarie...</td>\n",
              "      <td>ES</td>\n",
              "      <td>Correos en Canarias se encuentra inmersa en un...</td>\n",
              "      <td>Oficina de Correos. Archivo Correos en Canaria...</td>\n",
              "      <td>https://diariodeavisos.elespanol.com/2022/03/c...</td>\n",
              "      <td>economia</td>\n",
              "    </tr>\n",
              "    <tr>\n",
              "      <th>36498</th>\n",
              "      <td>2022-04-03 22:51:17</td>\n",
              "      <td>Bad Bunny gana Grammy por mejor disco de músic...</td>\n",
              "      <td>PR</td>\n",
              "      <td>El cantante tiene otras seis nominaciones</td>\n",
              "      <td>Benito Ocasio Martínez, conocido como 'Bad Bun...</td>\n",
              "      <td>https://www.metro.pr/entretenimiento/2022/04/0...</td>\n",
              "      <td>entretenimiento</td>\n",
              "    </tr>\n",
              "  </tbody>\n",
              "</table>\n",
              "</div>\n",
              "      <button class=\"colab-df-convert\" onclick=\"convertToInteractive('df-337ae5e5-40a8-4a42-956c-3fd4241c0c70')\"\n",
              "              title=\"Convert this dataframe to an interactive table.\"\n",
              "              style=\"display:none;\">\n",
              "        \n",
              "  <svg xmlns=\"http://www.w3.org/2000/svg\" height=\"24px\"viewBox=\"0 0 24 24\"\n",
              "       width=\"24px\">\n",
              "    <path d=\"M0 0h24v24H0V0z\" fill=\"none\"/>\n",
              "    <path d=\"M18.56 5.44l.94 2.06.94-2.06 2.06-.94-2.06-.94-.94-2.06-.94 2.06-2.06.94zm-11 1L8.5 8.5l.94-2.06 2.06-.94-2.06-.94L8.5 2.5l-.94 2.06-2.06.94zm10 10l.94 2.06.94-2.06 2.06-.94-2.06-.94-.94-2.06-.94 2.06-2.06.94z\"/><path d=\"M17.41 7.96l-1.37-1.37c-.4-.4-.92-.59-1.43-.59-.52 0-1.04.2-1.43.59L10.3 9.45l-7.72 7.72c-.78.78-.78 2.05 0 2.83L4 21.41c.39.39.9.59 1.41.59.51 0 1.02-.2 1.41-.59l7.78-7.78 2.81-2.81c.8-.78.8-2.07 0-2.86zM5.41 20L4 18.59l7.72-7.72 1.47 1.35L5.41 20z\"/>\n",
              "  </svg>\n",
              "      </button>\n",
              "      \n",
              "  <style>\n",
              "    .colab-df-container {\n",
              "      display:flex;\n",
              "      flex-wrap:wrap;\n",
              "      gap: 12px;\n",
              "    }\n",
              "\n",
              "    .colab-df-convert {\n",
              "      background-color: #E8F0FE;\n",
              "      border: none;\n",
              "      border-radius: 50%;\n",
              "      cursor: pointer;\n",
              "      display: none;\n",
              "      fill: #1967D2;\n",
              "      height: 32px;\n",
              "      padding: 0 0 0 0;\n",
              "      width: 32px;\n",
              "    }\n",
              "\n",
              "    .colab-df-convert:hover {\n",
              "      background-color: #E2EBFA;\n",
              "      box-shadow: 0px 1px 2px rgba(60, 64, 67, 0.3), 0px 1px 3px 1px rgba(60, 64, 67, 0.15);\n",
              "      fill: #174EA6;\n",
              "    }\n",
              "\n",
              "    [theme=dark] .colab-df-convert {\n",
              "      background-color: #3B4455;\n",
              "      fill: #D2E3FC;\n",
              "    }\n",
              "\n",
              "    [theme=dark] .colab-df-convert:hover {\n",
              "      background-color: #434B5C;\n",
              "      box-shadow: 0px 1px 3px 1px rgba(0, 0, 0, 0.15);\n",
              "      filter: drop-shadow(0px 1px 2px rgba(0, 0, 0, 0.3));\n",
              "      fill: #FFFFFF;\n",
              "    }\n",
              "  </style>\n",
              "\n",
              "      <script>\n",
              "        const buttonEl =\n",
              "          document.querySelector('#df-337ae5e5-40a8-4a42-956c-3fd4241c0c70 button.colab-df-convert');\n",
              "        buttonEl.style.display =\n",
              "          google.colab.kernel.accessAllowed ? 'block' : 'none';\n",
              "\n",
              "        async function convertToInteractive(key) {\n",
              "          const element = document.querySelector('#df-337ae5e5-40a8-4a42-956c-3fd4241c0c70');\n",
              "          const dataTable =\n",
              "            await google.colab.kernel.invokeFunction('convertToInteractive',\n",
              "                                                     [key], {});\n",
              "          if (!dataTable) return;\n",
              "\n",
              "          const docLinkHtml = 'Like what you see? Visit the ' +\n",
              "            '<a target=\"_blank\" href=https://colab.research.google.com/notebooks/data_table.ipynb>data table notebook</a>'\n",
              "            + ' to learn more about interactive tables.';\n",
              "          element.innerHTML = '';\n",
              "          dataTable['output_type'] = 'display_data';\n",
              "          await google.colab.output.renderOutput(dataTable, element);\n",
              "          const docLink = document.createElement('div');\n",
              "          docLink.innerHTML = docLinkHtml;\n",
              "          element.appendChild(docLink);\n",
              "        }\n",
              "      </script>\n",
              "    </div>\n",
              "  </div>\n",
              "  "
            ]
          },
          "metadata": {},
          "execution_count": 5
        }
      ]
    },
    {
      "cell_type": "code",
      "source": [
        "noticias_test.shape"
      ],
      "metadata": {
        "colab": {
          "base_uri": "https://localhost:8080/"
        },
        "id": "4vO70N0p9oWo",
        "outputId": "c3ec1977-04e2-4de0-8528-94b7a3672d80"
      },
      "execution_count": 6,
      "outputs": [
        {
          "output_type": "execute_result",
          "data": {
            "text/plain": [
              "(22961, 7)"
            ]
          },
          "metadata": {},
          "execution_count": 6
        }
      ]
    },
    {
      "cell_type": "code",
      "source": [
        "noticias_test.sample(2)"
      ],
      "metadata": {
        "colab": {
          "base_uri": "https://localhost:8080/",
          "height": 295
        },
        "id": "SPh894Jb-AsX",
        "outputId": "5ed9f94c-390a-4a7d-b757-d0462acd7042"
      },
      "execution_count": 7,
      "outputs": [
        {
          "output_type": "execute_result",
          "data": {
            "text/plain": [
              "                     fecha                                             titulo  \\\n",
              "9045   2022-03-23 08:00:00  Detuvieron en Hungría al principal sospechoso ...   \n",
              "18886  2022-03-31 15:11:30  Casi 35.000 firmantes piden incluir la memoria...   \n",
              "\n",
              "      pais                                           extracto  \\\n",
              "9045    AR  El principal sospechoso de la muerte del exrug...   \n",
              "18886   ES  Entre los promotores de la iniciativa, difundi...   \n",
              "\n",
              "                                                 resumen  \\\n",
              "9045   El principal sospechoso de la muerte del exrug...   \n",
              "18886  Representantes de organizaciones de memoria y ...   \n",
              "\n",
              "                                                  enlace categoria  \n",
              "9045   https://www.grupolaprovincia.com/deportes/detu...  deportes  \n",
              "18886  https://www.publico.es/politica/35-000-firmant...  politica  "
            ],
            "text/html": [
              "\n",
              "  <div id=\"df-8e59689a-dd4e-421b-88f4-60718959523a\">\n",
              "    <div class=\"colab-df-container\">\n",
              "      <div>\n",
              "<style scoped>\n",
              "    .dataframe tbody tr th:only-of-type {\n",
              "        vertical-align: middle;\n",
              "    }\n",
              "\n",
              "    .dataframe tbody tr th {\n",
              "        vertical-align: top;\n",
              "    }\n",
              "\n",
              "    .dataframe thead th {\n",
              "        text-align: right;\n",
              "    }\n",
              "</style>\n",
              "<table border=\"1\" class=\"dataframe\">\n",
              "  <thead>\n",
              "    <tr style=\"text-align: right;\">\n",
              "      <th></th>\n",
              "      <th>fecha</th>\n",
              "      <th>titulo</th>\n",
              "      <th>pais</th>\n",
              "      <th>extracto</th>\n",
              "      <th>resumen</th>\n",
              "      <th>enlace</th>\n",
              "      <th>categoria</th>\n",
              "    </tr>\n",
              "  </thead>\n",
              "  <tbody>\n",
              "    <tr>\n",
              "      <th>9045</th>\n",
              "      <td>2022-03-23 08:00:00</td>\n",
              "      <td>Detuvieron en Hungría al principal sospechoso ...</td>\n",
              "      <td>AR</td>\n",
              "      <td>El principal sospechoso de la muerte del exrug...</td>\n",
              "      <td>El principal sospechoso de la muerte del exrug...</td>\n",
              "      <td>https://www.grupolaprovincia.com/deportes/detu...</td>\n",
              "      <td>deportes</td>\n",
              "    </tr>\n",
              "    <tr>\n",
              "      <th>18886</th>\n",
              "      <td>2022-03-31 15:11:30</td>\n",
              "      <td>Casi 35.000 firmantes piden incluir la memoria...</td>\n",
              "      <td>ES</td>\n",
              "      <td>Entre los promotores de la iniciativa, difundi...</td>\n",
              "      <td>Representantes de organizaciones de memoria y ...</td>\n",
              "      <td>https://www.publico.es/politica/35-000-firmant...</td>\n",
              "      <td>politica</td>\n",
              "    </tr>\n",
              "  </tbody>\n",
              "</table>\n",
              "</div>\n",
              "      <button class=\"colab-df-convert\" onclick=\"convertToInteractive('df-8e59689a-dd4e-421b-88f4-60718959523a')\"\n",
              "              title=\"Convert this dataframe to an interactive table.\"\n",
              "              style=\"display:none;\">\n",
              "        \n",
              "  <svg xmlns=\"http://www.w3.org/2000/svg\" height=\"24px\"viewBox=\"0 0 24 24\"\n",
              "       width=\"24px\">\n",
              "    <path d=\"M0 0h24v24H0V0z\" fill=\"none\"/>\n",
              "    <path d=\"M18.56 5.44l.94 2.06.94-2.06 2.06-.94-2.06-.94-.94-2.06-.94 2.06-2.06.94zm-11 1L8.5 8.5l.94-2.06 2.06-.94-2.06-.94L8.5 2.5l-.94 2.06-2.06.94zm10 10l.94 2.06.94-2.06 2.06-.94-2.06-.94-.94-2.06-.94 2.06-2.06.94z\"/><path d=\"M17.41 7.96l-1.37-1.37c-.4-.4-.92-.59-1.43-.59-.52 0-1.04.2-1.43.59L10.3 9.45l-7.72 7.72c-.78.78-.78 2.05 0 2.83L4 21.41c.39.39.9.59 1.41.59.51 0 1.02-.2 1.41-.59l7.78-7.78 2.81-2.81c.8-.78.8-2.07 0-2.86zM5.41 20L4 18.59l7.72-7.72 1.47 1.35L5.41 20z\"/>\n",
              "  </svg>\n",
              "      </button>\n",
              "      \n",
              "  <style>\n",
              "    .colab-df-container {\n",
              "      display:flex;\n",
              "      flex-wrap:wrap;\n",
              "      gap: 12px;\n",
              "    }\n",
              "\n",
              "    .colab-df-convert {\n",
              "      background-color: #E8F0FE;\n",
              "      border: none;\n",
              "      border-radius: 50%;\n",
              "      cursor: pointer;\n",
              "      display: none;\n",
              "      fill: #1967D2;\n",
              "      height: 32px;\n",
              "      padding: 0 0 0 0;\n",
              "      width: 32px;\n",
              "    }\n",
              "\n",
              "    .colab-df-convert:hover {\n",
              "      background-color: #E2EBFA;\n",
              "      box-shadow: 0px 1px 2px rgba(60, 64, 67, 0.3), 0px 1px 3px 1px rgba(60, 64, 67, 0.15);\n",
              "      fill: #174EA6;\n",
              "    }\n",
              "\n",
              "    [theme=dark] .colab-df-convert {\n",
              "      background-color: #3B4455;\n",
              "      fill: #D2E3FC;\n",
              "    }\n",
              "\n",
              "    [theme=dark] .colab-df-convert:hover {\n",
              "      background-color: #434B5C;\n",
              "      box-shadow: 0px 1px 3px 1px rgba(0, 0, 0, 0.15);\n",
              "      filter: drop-shadow(0px 1px 2px rgba(0, 0, 0, 0.3));\n",
              "      fill: #FFFFFF;\n",
              "    }\n",
              "  </style>\n",
              "\n",
              "      <script>\n",
              "        const buttonEl =\n",
              "          document.querySelector('#df-8e59689a-dd4e-421b-88f4-60718959523a button.colab-df-convert');\n",
              "        buttonEl.style.display =\n",
              "          google.colab.kernel.accessAllowed ? 'block' : 'none';\n",
              "\n",
              "        async function convertToInteractive(key) {\n",
              "          const element = document.querySelector('#df-8e59689a-dd4e-421b-88f4-60718959523a');\n",
              "          const dataTable =\n",
              "            await google.colab.kernel.invokeFunction('convertToInteractive',\n",
              "                                                     [key], {});\n",
              "          if (!dataTable) return;\n",
              "\n",
              "          const docLinkHtml = 'Like what you see? Visit the ' +\n",
              "            '<a target=\"_blank\" href=https://colab.research.google.com/notebooks/data_table.ipynb>data table notebook</a>'\n",
              "            + ' to learn more about interactive tables.';\n",
              "          element.innerHTML = '';\n",
              "          dataTable['output_type'] = 'display_data';\n",
              "          await google.colab.output.renderOutput(dataTable, element);\n",
              "          const docLink = document.createElement('div');\n",
              "          docLink.innerHTML = docLinkHtml;\n",
              "          element.appendChild(docLink);\n",
              "        }\n",
              "      </script>\n",
              "    </div>\n",
              "  </div>\n",
              "  "
            ]
          },
          "metadata": {},
          "execution_count": 7
        }
      ]
    },
    {
      "cell_type": "code",
      "source": [
        "#!python -m spacy download es_core_news_sm"
      ],
      "metadata": {
        "id": "6JUXYgWL-A37"
      },
      "execution_count": 8,
      "outputs": []
    },
    {
      "cell_type": "code",
      "source": [
        "import spacy\n",
        "\n",
        "nlp = spacy.load(\"es_core_news_sm\")"
      ],
      "metadata": {
        "id": "aEfBrUVN-A6q"
      },
      "execution_count": 9,
      "outputs": []
    },
    {
      "cell_type": "markdown",
      "source": [
        "### 1.3 Spacy y sus estructuras"
      ],
      "metadata": {
        "id": "nS0BHqw7a0WU"
      }
    },
    {
      "cell_type": "code",
      "source": [
        "texto = \"Big Data es una ciencia que nos permite trabajar velozmente con grandes volúmenes de datos.\""
      ],
      "metadata": {
        "id": "YBzIlamSE1AY"
      },
      "execution_count": 10,
      "outputs": []
    },
    {
      "cell_type": "code",
      "source": [
        "doc = nlp(texto)"
      ],
      "metadata": {
        "id": "50-Dz21wHkXV"
      },
      "execution_count": 11,
      "outputs": []
    },
    {
      "cell_type": "code",
      "source": [
        "type(doc)"
      ],
      "metadata": {
        "colab": {
          "base_uri": "https://localhost:8080/"
        },
        "id": "WNkMyikPHkb6",
        "outputId": "a7bf3a53-d210-4f23-8b0e-dcad6cfa5a1d"
      },
      "execution_count": 12,
      "outputs": [
        {
          "output_type": "execute_result",
          "data": {
            "text/plain": [
              "spacy.tokens.doc.Doc"
            ]
          },
          "metadata": {},
          "execution_count": 12
        }
      ]
    },
    {
      "cell_type": "code",
      "source": [
        "doc[0]"
      ],
      "metadata": {
        "colab": {
          "base_uri": "https://localhost:8080/"
        },
        "id": "iGxBVt1vHkeu",
        "outputId": "84ea75be-0118-4082-d8c4-f409e07fcccb"
      },
      "execution_count": 13,
      "outputs": [
        {
          "output_type": "execute_result",
          "data": {
            "text/plain": [
              "Big"
            ]
          },
          "metadata": {},
          "execution_count": 13
        }
      ]
    },
    {
      "cell_type": "code",
      "source": [
        "doc.ents"
      ],
      "metadata": {
        "colab": {
          "base_uri": "https://localhost:8080/"
        },
        "id": "65DzGN03HkhA",
        "outputId": "c01f7fbb-f6ec-4f67-9230-d7aea63e7922"
      },
      "execution_count": 14,
      "outputs": [
        {
          "output_type": "execute_result",
          "data": {
            "text/plain": [
              "(Big Data,)"
            ]
          },
          "metadata": {},
          "execution_count": 14
        }
      ]
    },
    {
      "cell_type": "code",
      "source": [
        "doc[5].is_stop"
      ],
      "metadata": {
        "colab": {
          "base_uri": "https://localhost:8080/"
        },
        "id": "mbGC_PhhIo4m",
        "outputId": "86c7d589-afe7-4731-fa80-271485a23882"
      },
      "execution_count": 15,
      "outputs": [
        {
          "output_type": "execute_result",
          "data": {
            "text/plain": [
              "True"
            ]
          },
          "metadata": {},
          "execution_count": 15
        }
      ]
    },
    {
      "cell_type": "code",
      "source": [
        "doc[9].is_stop"
      ],
      "metadata": {
        "colab": {
          "base_uri": "https://localhost:8080/"
        },
        "id": "6nt73cnUI2jq",
        "outputId": "e149bbe7-75b4-4064-d504-d3312062eebe"
      },
      "execution_count": 16,
      "outputs": [
        {
          "output_type": "execute_result",
          "data": {
            "text/plain": [
              "False"
            ]
          },
          "metadata": {},
          "execution_count": 16
        }
      ]
    },
    {
      "cell_type": "code",
      "source": [
        "doc[9].pos_"
      ],
      "metadata": {
        "colab": {
          "base_uri": "https://localhost:8080/",
          "height": 36
        },
        "id": "y8mfMBFuI2mQ",
        "outputId": "836d0e53-37e2-472a-93e2-521056ca48fd"
      },
      "execution_count": 17,
      "outputs": [
        {
          "output_type": "execute_result",
          "data": {
            "text/plain": [
              "'ADV'"
            ],
            "application/vnd.google.colaboratory.intrinsic+json": {
              "type": "string"
            }
          },
          "metadata": {},
          "execution_count": 17
        }
      ]
    },
    {
      "cell_type": "markdown",
      "source": [
        "## Aula 2"
      ],
      "metadata": {
        "id": "FnGG3RMibMjR"
      }
    },
    {
      "cell_type": "markdown",
      "source": [
        "### 2.1 Preprocesamiento de los datos"
      ],
      "metadata": {
        "id": "zyfdQuI8bPW_"
      }
    },
    {
      "cell_type": "code",
      "source": [
        "texto_para_tratamiento = (titulo.lower() for titulo in noticias_train.titulo)"
      ],
      "metadata": {
        "id": "aoKipwvZARFS"
      },
      "execution_count": 18,
      "outputs": []
    },
    {
      "cell_type": "code",
      "source": [
        "def trata_texto(doc):\n",
        "  token_valido = []\n",
        "  for token in doc:\n",
        "    valido = not token.is_stop and token.is_alpha\n",
        "    if valido:\n",
        "      token_valido.append(token.text)\n",
        "  if len(token_valido) > 2:\n",
        "    return \" \".join(token_valido)"
      ],
      "metadata": {
        "id": "ghw4RkzxKyCm"
      },
      "execution_count": 19,
      "outputs": []
    },
    {
      "cell_type": "code",
      "source": [
        "texto = \"Big Data es una ciencia que nos permite trabajar velozmente con grandes volúmenes de datos.\"\n",
        "doc = nlp(texto)\n",
        "trata_texto(doc)"
      ],
      "metadata": {
        "colab": {
          "base_uri": "https://localhost:8080/",
          "height": 36
        },
        "id": "7kvSQQ_VKyE-",
        "outputId": "98da9e59-b4a2-498a-9897-57a7a0978ffc"
      },
      "execution_count": 20,
      "outputs": [
        {
          "output_type": "execute_result",
          "data": {
            "text/plain": [
              "'Big Data ciencia permite velozmente volúmenes datos'"
            ],
            "application/vnd.google.colaboratory.intrinsic+json": {
              "type": "string"
            }
          },
          "metadata": {},
          "execution_count": 20
        }
      ]
    },
    {
      "cell_type": "code",
      "source": [
        "texto = \"Big Data 4673423 es una ciencia! que nos permite  %¨&%$$%& trabajar velozmente con grandes -0898982 volúmenes de datos.\"\n",
        "doc = nlp(texto)\n",
        "trata_texto(doc)"
      ],
      "metadata": {
        "colab": {
          "base_uri": "https://localhost:8080/",
          "height": 36
        },
        "id": "nKAZdNBBKyKm",
        "outputId": "beb6ba00-ffd9-4d3b-e493-ac9cbbc913ec"
      },
      "execution_count": 21,
      "outputs": [
        {
          "output_type": "execute_result",
          "data": {
            "text/plain": [
              "'Big Data ciencia permite velozmente volúmenes datos'"
            ],
            "application/vnd.google.colaboratory.intrinsic+json": {
              "type": "string"
            }
          },
          "metadata": {},
          "execution_count": 21
        }
      ]
    },
    {
      "cell_type": "markdown",
      "source": [
        "### 2.2 Optimizando el tratamiento de los datos"
      ],
      "metadata": {
        "id": "8vuuJFVSbS8J"
      }
    },
    {
      "cell_type": "code",
      "source": [
        "from time import time\n",
        "\n",
        "t0 = time()\n",
        "texto_tratado = [trata_texto(doc) for doc in nlp.pipe(texto_para_tratamiento, batch_size=1000, n_process= -1)]\n",
        "tf = time()-t0\n",
        "\n",
        "print(tf/60)"
      ],
      "metadata": {
        "id": "1fYZ2OwNbake",
        "colab": {
          "base_uri": "https://localhost:8080/"
        },
        "outputId": "a01277de-09f7-43c0-fc57-1c6aaef094f4"
      },
      "execution_count": 22,
      "outputs": [
        {
          "output_type": "stream",
          "name": "stdout",
          "text": [
            "3.1199692209561665\n"
          ]
        }
      ]
    },
    {
      "cell_type": "code",
      "source": [
        "titulos_tratados = pd.DataFrame({'titulo': texto_tratado})\n",
        "titulos_tratados.head()"
      ],
      "metadata": {
        "colab": {
          "base_uri": "https://localhost:8080/",
          "height": 206
        },
        "id": "vIkjzXA5RDCk",
        "outputId": "99c8da73-d460-47e7-8e40-4d3699a7367a"
      },
      "execution_count": 23,
      "outputs": [
        {
          "output_type": "execute_result",
          "data": {
            "text/plain": [
              "                                              titulo\n",
              "0  tenso debate senado argentino refinanciamiento...\n",
              "1  triunfo dramático cruz azul duelo campeones atlas\n",
              "2      moderar inflación urgente marcha plan calviño\n",
              "3  llega the batman a hbo max mira fecha estreno ...\n",
              "4  guzmán default fmi implicaba ajuste y caída pr..."
            ],
            "text/html": [
              "\n",
              "  <div id=\"df-357878d1-4a3a-4bde-833f-d4136bbea402\">\n",
              "    <div class=\"colab-df-container\">\n",
              "      <div>\n",
              "<style scoped>\n",
              "    .dataframe tbody tr th:only-of-type {\n",
              "        vertical-align: middle;\n",
              "    }\n",
              "\n",
              "    .dataframe tbody tr th {\n",
              "        vertical-align: top;\n",
              "    }\n",
              "\n",
              "    .dataframe thead th {\n",
              "        text-align: right;\n",
              "    }\n",
              "</style>\n",
              "<table border=\"1\" class=\"dataframe\">\n",
              "  <thead>\n",
              "    <tr style=\"text-align: right;\">\n",
              "      <th></th>\n",
              "      <th>titulo</th>\n",
              "    </tr>\n",
              "  </thead>\n",
              "  <tbody>\n",
              "    <tr>\n",
              "      <th>0</th>\n",
              "      <td>tenso debate senado argentino refinanciamiento...</td>\n",
              "    </tr>\n",
              "    <tr>\n",
              "      <th>1</th>\n",
              "      <td>triunfo dramático cruz azul duelo campeones atlas</td>\n",
              "    </tr>\n",
              "    <tr>\n",
              "      <th>2</th>\n",
              "      <td>moderar inflación urgente marcha plan calviño</td>\n",
              "    </tr>\n",
              "    <tr>\n",
              "      <th>3</th>\n",
              "      <td>llega the batman a hbo max mira fecha estreno ...</td>\n",
              "    </tr>\n",
              "    <tr>\n",
              "      <th>4</th>\n",
              "      <td>guzmán default fmi implicaba ajuste y caída pr...</td>\n",
              "    </tr>\n",
              "  </tbody>\n",
              "</table>\n",
              "</div>\n",
              "      <button class=\"colab-df-convert\" onclick=\"convertToInteractive('df-357878d1-4a3a-4bde-833f-d4136bbea402')\"\n",
              "              title=\"Convert this dataframe to an interactive table.\"\n",
              "              style=\"display:none;\">\n",
              "        \n",
              "  <svg xmlns=\"http://www.w3.org/2000/svg\" height=\"24px\"viewBox=\"0 0 24 24\"\n",
              "       width=\"24px\">\n",
              "    <path d=\"M0 0h24v24H0V0z\" fill=\"none\"/>\n",
              "    <path d=\"M18.56 5.44l.94 2.06.94-2.06 2.06-.94-2.06-.94-.94-2.06-.94 2.06-2.06.94zm-11 1L8.5 8.5l.94-2.06 2.06-.94-2.06-.94L8.5 2.5l-.94 2.06-2.06.94zm10 10l.94 2.06.94-2.06 2.06-.94-2.06-.94-.94-2.06-.94 2.06-2.06.94z\"/><path d=\"M17.41 7.96l-1.37-1.37c-.4-.4-.92-.59-1.43-.59-.52 0-1.04.2-1.43.59L10.3 9.45l-7.72 7.72c-.78.78-.78 2.05 0 2.83L4 21.41c.39.39.9.59 1.41.59.51 0 1.02-.2 1.41-.59l7.78-7.78 2.81-2.81c.8-.78.8-2.07 0-2.86zM5.41 20L4 18.59l7.72-7.72 1.47 1.35L5.41 20z\"/>\n",
              "  </svg>\n",
              "      </button>\n",
              "      \n",
              "  <style>\n",
              "    .colab-df-container {\n",
              "      display:flex;\n",
              "      flex-wrap:wrap;\n",
              "      gap: 12px;\n",
              "    }\n",
              "\n",
              "    .colab-df-convert {\n",
              "      background-color: #E8F0FE;\n",
              "      border: none;\n",
              "      border-radius: 50%;\n",
              "      cursor: pointer;\n",
              "      display: none;\n",
              "      fill: #1967D2;\n",
              "      height: 32px;\n",
              "      padding: 0 0 0 0;\n",
              "      width: 32px;\n",
              "    }\n",
              "\n",
              "    .colab-df-convert:hover {\n",
              "      background-color: #E2EBFA;\n",
              "      box-shadow: 0px 1px 2px rgba(60, 64, 67, 0.3), 0px 1px 3px 1px rgba(60, 64, 67, 0.15);\n",
              "      fill: #174EA6;\n",
              "    }\n",
              "\n",
              "    [theme=dark] .colab-df-convert {\n",
              "      background-color: #3B4455;\n",
              "      fill: #D2E3FC;\n",
              "    }\n",
              "\n",
              "    [theme=dark] .colab-df-convert:hover {\n",
              "      background-color: #434B5C;\n",
              "      box-shadow: 0px 1px 3px 1px rgba(0, 0, 0, 0.15);\n",
              "      filter: drop-shadow(0px 1px 2px rgba(0, 0, 0, 0.3));\n",
              "      fill: #FFFFFF;\n",
              "    }\n",
              "  </style>\n",
              "\n",
              "      <script>\n",
              "        const buttonEl =\n",
              "          document.querySelector('#df-357878d1-4a3a-4bde-833f-d4136bbea402 button.colab-df-convert');\n",
              "        buttonEl.style.display =\n",
              "          google.colab.kernel.accessAllowed ? 'block' : 'none';\n",
              "\n",
              "        async function convertToInteractive(key) {\n",
              "          const element = document.querySelector('#df-357878d1-4a3a-4bde-833f-d4136bbea402');\n",
              "          const dataTable =\n",
              "            await google.colab.kernel.invokeFunction('convertToInteractive',\n",
              "                                                     [key], {});\n",
              "          if (!dataTable) return;\n",
              "\n",
              "          const docLinkHtml = 'Like what you see? Visit the ' +\n",
              "            '<a target=\"_blank\" href=https://colab.research.google.com/notebooks/data_table.ipynb>data table notebook</a>'\n",
              "            + ' to learn more about interactive tables.';\n",
              "          element.innerHTML = '';\n",
              "          dataTable['output_type'] = 'display_data';\n",
              "          await google.colab.output.renderOutput(dataTable, element);\n",
              "          const docLink = document.createElement('div');\n",
              "          docLink.innerHTML = docLinkHtml;\n",
              "          element.appendChild(docLink);\n",
              "        }\n",
              "      </script>\n",
              "    </div>\n",
              "  </div>\n",
              "  "
            ]
          },
          "metadata": {},
          "execution_count": 23
        }
      ]
    },
    {
      "cell_type": "code",
      "source": [
        "len(titulos_tratados)"
      ],
      "metadata": {
        "colab": {
          "base_uri": "https://localhost:8080/"
        },
        "id": "YNaM_Va8RDFd",
        "outputId": "b59113ad-d96a-4b86-8ff8-1c6c8c396526"
      },
      "execution_count": 24,
      "outputs": [
        {
          "output_type": "execute_result",
          "data": {
            "text/plain": [
              "91844"
            ]
          },
          "metadata": {},
          "execution_count": 24
        }
      ]
    },
    {
      "cell_type": "markdown",
      "source": [
        "## Aula 3"
      ],
      "metadata": {
        "id": "Mh-HYjArbeMS"
      }
    },
    {
      "cell_type": "markdown",
      "source": [
        "### 3.1 Hiperparámetros de Word2Vec"
      ],
      "metadata": {
        "id": "bFVStKr3bgd4"
      }
    },
    {
      "cell_type": "code",
      "source": [
        ""
      ],
      "metadata": {
        "id": "MDtXdrgdy3KJ"
      },
      "execution_count": null,
      "outputs": []
    },
    {
      "cell_type": "markdown",
      "source": [
        "### 3.2 Avanzando en los hiperparámetros"
      ],
      "metadata": {
        "id": "96E9bFgSblvH"
      }
    },
    {
      "cell_type": "code",
      "source": [
        ""
      ],
      "metadata": {
        "id": "OfaC66N2y1ms"
      },
      "execution_count": null,
      "outputs": []
    },
    {
      "cell_type": "markdown",
      "source": [
        "### 3.3 Vocabulario Word2Vec"
      ],
      "metadata": {
        "id": "_mHrhwMdbx-t"
      }
    },
    {
      "cell_type": "code",
      "source": [
        ""
      ],
      "metadata": {
        "id": "eClAuglmyz5Y"
      },
      "execution_count": null,
      "outputs": []
    },
    {
      "cell_type": "markdown",
      "source": [
        "## Aula 4"
      ],
      "metadata": {
        "id": "GyrTRkhqb-kT"
      }
    },
    {
      "cell_type": "markdown",
      "source": [
        "### 4.1 Entrenando el modelo CBOW"
      ],
      "metadata": {
        "id": "k_c0Ib1acCe7"
      }
    },
    {
      "cell_type": "code",
      "source": [
        ""
      ],
      "metadata": {
        "id": "PnvD_HuRylZ5"
      },
      "execution_count": null,
      "outputs": []
    },
    {
      "cell_type": "markdown",
      "source": [
        "### 4.2 Entrenando el modelo Skip Gram"
      ],
      "metadata": {
        "id": "rMvPNYUHcHdE"
      }
    },
    {
      "cell_type": "code",
      "source": [
        ""
      ],
      "metadata": {
        "id": "WKSRdCDjyg3Y"
      },
      "execution_count": null,
      "outputs": []
    },
    {
      "cell_type": "markdown",
      "source": [
        "## Aula 5"
      ],
      "metadata": {
        "id": "LwHxPZgjcRHg"
      }
    },
    {
      "cell_type": "markdown",
      "source": [
        "### 5.1 Iniciando el clasificador"
      ],
      "metadata": {
        "id": "1uo1Ui1vcTm3"
      }
    },
    {
      "cell_type": "code",
      "source": [
        ""
      ],
      "metadata": {
        "id": "Ch5rHrxuyQii"
      },
      "execution_count": null,
      "outputs": []
    },
    {
      "cell_type": "markdown",
      "source": [
        "### 5.2 Combinación de vectores"
      ],
      "metadata": {
        "id": "fQgvCxlqcYvz"
      }
    },
    {
      "cell_type": "code",
      "source": [
        ""
      ],
      "metadata": {
        "id": "d03ZMD_CyL0B"
      },
      "execution_count": null,
      "outputs": []
    },
    {
      "cell_type": "markdown",
      "source": [
        "### 5.3 Vectorizando los titulares"
      ],
      "metadata": {
        "id": "gvWhQb_Dcd11"
      }
    },
    {
      "cell_type": "code",
      "source": [
        ""
      ],
      "metadata": {
        "id": "n63vwy5NyH2U"
      },
      "execution_count": null,
      "outputs": []
    },
    {
      "cell_type": "markdown",
      "source": [
        "## Aula 6"
      ],
      "metadata": {
        "id": "Augs1iQxcvC5"
      }
    },
    {
      "cell_type": "markdown",
      "source": [
        "### 6.1 Clasificando los titulares"
      ],
      "metadata": {
        "id": "CYssFj2rcw7e"
      }
    },
    {
      "cell_type": "code",
      "source": [
        ""
      ],
      "metadata": {
        "id": "SZ5cQsJnx2_D"
      },
      "execution_count": null,
      "outputs": []
    },
    {
      "cell_type": "markdown",
      "source": [
        "### 6.2 Comparando los modelos"
      ],
      "metadata": {
        "id": "5tq_MJlXc4AS"
      }
    },
    {
      "cell_type": "code",
      "source": [
        ""
      ],
      "metadata": {
        "id": "vtOS4Sm_PgNA"
      },
      "execution_count": null,
      "outputs": []
    }
  ]
}