{
  "nbformat": 4,
  "nbformat_minor": 0,
  "metadata": {
    "colab": {
      "name": "word2vec_entrenamiento",
      "provenance": [],
      "include_colab_link": true
    },
    "kernelspec": {
      "name": "python3",
      "display_name": "Python 3"
    },
    "language_info": {
      "name": "python"
    }
  },
  "cells": [
    {
      "cell_type": "markdown",
      "metadata": {
        "id": "view-in-github",
        "colab_type": "text"
      },
      "source": [
        "<a href=\"https://colab.research.google.com/github/ahcamachod/1904-word2vec-entrenamiento-de-word-embedding/blob/aula-5/word2vec_entrenamiento.ipynb\" target=\"_parent\"><img src=\"https://colab.research.google.com/assets/colab-badge.svg\" alt=\"Open In Colab\"/></a>"
      ]
    },
    {
      "cell_type": "markdown",
      "source": [
        "#Word2Vec: Entrenamiento de Word Embedding\n",
        "\n",
        "En este notebook encontrarás el desarrollo del proyecto para modelar tus propias representaciones de Word Embedding utilizando **Word2Vec** .\n",
        "\n",
        "\n",
        "Los principales recursos de Python que utilizaremos como base para nuestro modelaje se encuentran en:\n",
        "\n",
        "\n",
        "*https://spacy.io/*\n",
        "\n",
        "*https://radimrehurek.com/gensim/models/word2vec.html*\n",
        "\n",
        "\n",
        "La documentación referente al diseño de las arquitecturas Word2Vec la encontramos en:\n",
        "\n",
        "\n",
        "*https://arxiv.org/pdf/1301.3781.pdf*"
      ],
      "metadata": {
        "id": "Npq9KuJ0XUQQ"
      }
    },
    {
      "cell_type": "markdown",
      "source": [
        "## Aula 1"
      ],
      "metadata": {
        "id": "8yhYl-Hza-ry"
      }
    },
    {
      "cell_type": "markdown",
      "source": [
        "### 1.2 Iniciando con spacy"
      ],
      "metadata": {
        "id": "k00CIiN3audI"
      }
    },
    {
      "cell_type": "code",
      "source": [
        "import logging \n",
        "\n",
        "logging.basicConfig(format='%(asctime)s - %(message)s', level=logging.INFO)"
      ],
      "metadata": {
        "id": "QgOMTTOYb816"
      },
      "execution_count": 1,
      "outputs": []
    },
    {
      "cell_type": "code",
      "source": [
        "from google.colab import drive\n",
        "drive.mount('/content/drive')"
      ],
      "metadata": {
        "colab": {
          "base_uri": "https://localhost:8080/"
        },
        "id": "ls2R_Ntg9Hh0",
        "outputId": "9a2e2f52-92f2-4405-9314-3304fe6c92a7"
      },
      "execution_count": 2,
      "outputs": [
        {
          "output_type": "stream",
          "name": "stdout",
          "text": [
            "Drive already mounted at /content/drive; to attempt to forcibly remount, call drive.mount(\"/content/drive\", force_remount=True).\n"
          ]
        }
      ]
    },
    {
      "cell_type": "code",
      "source": [
        "import pandas as pd\n",
        "\n",
        "noticias_train = pd.read_csv('/content/drive/MyDrive/word2vec/noticias_entrenamiento.csv')\n",
        "noticias_test = pd.read_csv('/content/drive/MyDrive/word2vec/noticias_prueba.csv')"
      ],
      "metadata": {
        "id": "uFSyU0WXayiK",
        "colab": {
          "base_uri": "https://localhost:8080/"
        },
        "outputId": "25650806-ae13-4417-fb79-fca559b1b3b5"
      },
      "execution_count": 3,
      "outputs": [
        {
          "output_type": "stream",
          "name": "stderr",
          "text": [
            "2022-05-21 16:26:58,041 - NumExpr defaulting to 2 threads.\n"
          ]
        }
      ]
    },
    {
      "cell_type": "code",
      "source": [
        "noticias_train.shape"
      ],
      "metadata": {
        "colab": {
          "base_uri": "https://localhost:8080/"
        },
        "id": "Zl-KbJKW9oRK",
        "outputId": "612944e0-42ad-472f-eee5-666f5710101d"
      },
      "execution_count": 4,
      "outputs": [
        {
          "output_type": "execute_result",
          "data": {
            "text/plain": [
              "(91844, 7)"
            ]
          },
          "metadata": {},
          "execution_count": 4
        }
      ]
    },
    {
      "cell_type": "code",
      "source": [
        "noticias_train.sample(2)"
      ],
      "metadata": {
        "colab": {
          "base_uri": "https://localhost:8080/",
          "height": 312
        },
        "id": "3eMwPHKz9oUP",
        "outputId": "c7e1295c-4829-46a0-97f8-5e7aec4b5408"
      },
      "execution_count": 5,
      "outputs": [
        {
          "output_type": "execute_result",
          "data": {
            "text/plain": [
              "                     fecha                                             titulo  \\\n",
              "46969  2022-03-17 12:33:17  Correos en Canarias niega que exista \"precarie...   \n",
              "36498  2022-04-03 22:51:17  Bad Bunny gana Grammy por mejor disco de músic...   \n",
              "\n",
              "      pais                                           extracto  \\\n",
              "46969   ES  Correos en Canarias se encuentra inmersa en un...   \n",
              "36498   PR          El cantante tiene otras seis nominaciones   \n",
              "\n",
              "                                                 resumen  \\\n",
              "46969  Oficina de Correos. Archivo Correos en Canaria...   \n",
              "36498  Benito Ocasio Martínez, conocido como 'Bad Bun...   \n",
              "\n",
              "                                                  enlace        categoria  \n",
              "46969  https://diariodeavisos.elespanol.com/2022/03/c...         economia  \n",
              "36498  https://www.metro.pr/entretenimiento/2022/04/0...  entretenimiento  "
            ],
            "text/html": [
              "\n",
              "  <div id=\"df-337ae5e5-40a8-4a42-956c-3fd4241c0c70\">\n",
              "    <div class=\"colab-df-container\">\n",
              "      <div>\n",
              "<style scoped>\n",
              "    .dataframe tbody tr th:only-of-type {\n",
              "        vertical-align: middle;\n",
              "    }\n",
              "\n",
              "    .dataframe tbody tr th {\n",
              "        vertical-align: top;\n",
              "    }\n",
              "\n",
              "    .dataframe thead th {\n",
              "        text-align: right;\n",
              "    }\n",
              "</style>\n",
              "<table border=\"1\" class=\"dataframe\">\n",
              "  <thead>\n",
              "    <tr style=\"text-align: right;\">\n",
              "      <th></th>\n",
              "      <th>fecha</th>\n",
              "      <th>titulo</th>\n",
              "      <th>pais</th>\n",
              "      <th>extracto</th>\n",
              "      <th>resumen</th>\n",
              "      <th>enlace</th>\n",
              "      <th>categoria</th>\n",
              "    </tr>\n",
              "  </thead>\n",
              "  <tbody>\n",
              "    <tr>\n",
              "      <th>46969</th>\n",
              "      <td>2022-03-17 12:33:17</td>\n",
              "      <td>Correos en Canarias niega que exista \"precarie...</td>\n",
              "      <td>ES</td>\n",
              "      <td>Correos en Canarias se encuentra inmersa en un...</td>\n",
              "      <td>Oficina de Correos. Archivo Correos en Canaria...</td>\n",
              "      <td>https://diariodeavisos.elespanol.com/2022/03/c...</td>\n",
              "      <td>economia</td>\n",
              "    </tr>\n",
              "    <tr>\n",
              "      <th>36498</th>\n",
              "      <td>2022-04-03 22:51:17</td>\n",
              "      <td>Bad Bunny gana Grammy por mejor disco de músic...</td>\n",
              "      <td>PR</td>\n",
              "      <td>El cantante tiene otras seis nominaciones</td>\n",
              "      <td>Benito Ocasio Martínez, conocido como 'Bad Bun...</td>\n",
              "      <td>https://www.metro.pr/entretenimiento/2022/04/0...</td>\n",
              "      <td>entretenimiento</td>\n",
              "    </tr>\n",
              "  </tbody>\n",
              "</table>\n",
              "</div>\n",
              "      <button class=\"colab-df-convert\" onclick=\"convertToInteractive('df-337ae5e5-40a8-4a42-956c-3fd4241c0c70')\"\n",
              "              title=\"Convert this dataframe to an interactive table.\"\n",
              "              style=\"display:none;\">\n",
              "        \n",
              "  <svg xmlns=\"http://www.w3.org/2000/svg\" height=\"24px\"viewBox=\"0 0 24 24\"\n",
              "       width=\"24px\">\n",
              "    <path d=\"M0 0h24v24H0V0z\" fill=\"none\"/>\n",
              "    <path d=\"M18.56 5.44l.94 2.06.94-2.06 2.06-.94-2.06-.94-.94-2.06-.94 2.06-2.06.94zm-11 1L8.5 8.5l.94-2.06 2.06-.94-2.06-.94L8.5 2.5l-.94 2.06-2.06.94zm10 10l.94 2.06.94-2.06 2.06-.94-2.06-.94-.94-2.06-.94 2.06-2.06.94z\"/><path d=\"M17.41 7.96l-1.37-1.37c-.4-.4-.92-.59-1.43-.59-.52 0-1.04.2-1.43.59L10.3 9.45l-7.72 7.72c-.78.78-.78 2.05 0 2.83L4 21.41c.39.39.9.59 1.41.59.51 0 1.02-.2 1.41-.59l7.78-7.78 2.81-2.81c.8-.78.8-2.07 0-2.86zM5.41 20L4 18.59l7.72-7.72 1.47 1.35L5.41 20z\"/>\n",
              "  </svg>\n",
              "      </button>\n",
              "      \n",
              "  <style>\n",
              "    .colab-df-container {\n",
              "      display:flex;\n",
              "      flex-wrap:wrap;\n",
              "      gap: 12px;\n",
              "    }\n",
              "\n",
              "    .colab-df-convert {\n",
              "      background-color: #E8F0FE;\n",
              "      border: none;\n",
              "      border-radius: 50%;\n",
              "      cursor: pointer;\n",
              "      display: none;\n",
              "      fill: #1967D2;\n",
              "      height: 32px;\n",
              "      padding: 0 0 0 0;\n",
              "      width: 32px;\n",
              "    }\n",
              "\n",
              "    .colab-df-convert:hover {\n",
              "      background-color: #E2EBFA;\n",
              "      box-shadow: 0px 1px 2px rgba(60, 64, 67, 0.3), 0px 1px 3px 1px rgba(60, 64, 67, 0.15);\n",
              "      fill: #174EA6;\n",
              "    }\n",
              "\n",
              "    [theme=dark] .colab-df-convert {\n",
              "      background-color: #3B4455;\n",
              "      fill: #D2E3FC;\n",
              "    }\n",
              "\n",
              "    [theme=dark] .colab-df-convert:hover {\n",
              "      background-color: #434B5C;\n",
              "      box-shadow: 0px 1px 3px 1px rgba(0, 0, 0, 0.15);\n",
              "      filter: drop-shadow(0px 1px 2px rgba(0, 0, 0, 0.3));\n",
              "      fill: #FFFFFF;\n",
              "    }\n",
              "  </style>\n",
              "\n",
              "      <script>\n",
              "        const buttonEl =\n",
              "          document.querySelector('#df-337ae5e5-40a8-4a42-956c-3fd4241c0c70 button.colab-df-convert');\n",
              "        buttonEl.style.display =\n",
              "          google.colab.kernel.accessAllowed ? 'block' : 'none';\n",
              "\n",
              "        async function convertToInteractive(key) {\n",
              "          const element = document.querySelector('#df-337ae5e5-40a8-4a42-956c-3fd4241c0c70');\n",
              "          const dataTable =\n",
              "            await google.colab.kernel.invokeFunction('convertToInteractive',\n",
              "                                                     [key], {});\n",
              "          if (!dataTable) return;\n",
              "\n",
              "          const docLinkHtml = 'Like what you see? Visit the ' +\n",
              "            '<a target=\"_blank\" href=https://colab.research.google.com/notebooks/data_table.ipynb>data table notebook</a>'\n",
              "            + ' to learn more about interactive tables.';\n",
              "          element.innerHTML = '';\n",
              "          dataTable['output_type'] = 'display_data';\n",
              "          await google.colab.output.renderOutput(dataTable, element);\n",
              "          const docLink = document.createElement('div');\n",
              "          docLink.innerHTML = docLinkHtml;\n",
              "          element.appendChild(docLink);\n",
              "        }\n",
              "      </script>\n",
              "    </div>\n",
              "  </div>\n",
              "  "
            ]
          },
          "metadata": {},
          "execution_count": 5
        }
      ]
    },
    {
      "cell_type": "code",
      "source": [
        "noticias_test.shape"
      ],
      "metadata": {
        "colab": {
          "base_uri": "https://localhost:8080/"
        },
        "id": "4vO70N0p9oWo",
        "outputId": "c3ec1977-04e2-4de0-8528-94b7a3672d80"
      },
      "execution_count": 6,
      "outputs": [
        {
          "output_type": "execute_result",
          "data": {
            "text/plain": [
              "(22961, 7)"
            ]
          },
          "metadata": {},
          "execution_count": 6
        }
      ]
    },
    {
      "cell_type": "code",
      "source": [
        "noticias_test.sample(2)"
      ],
      "metadata": {
        "colab": {
          "base_uri": "https://localhost:8080/",
          "height": 295
        },
        "id": "SPh894Jb-AsX",
        "outputId": "5ed9f94c-390a-4a7d-b757-d0462acd7042"
      },
      "execution_count": 7,
      "outputs": [
        {
          "output_type": "execute_result",
          "data": {
            "text/plain": [
              "                     fecha                                             titulo  \\\n",
              "9045   2022-03-23 08:00:00  Detuvieron en Hungría al principal sospechoso ...   \n",
              "18886  2022-03-31 15:11:30  Casi 35.000 firmantes piden incluir la memoria...   \n",
              "\n",
              "      pais                                           extracto  \\\n",
              "9045    AR  El principal sospechoso de la muerte del exrug...   \n",
              "18886   ES  Entre los promotores de la iniciativa, difundi...   \n",
              "\n",
              "                                                 resumen  \\\n",
              "9045   El principal sospechoso de la muerte del exrug...   \n",
              "18886  Representantes de organizaciones de memoria y ...   \n",
              "\n",
              "                                                  enlace categoria  \n",
              "9045   https://www.grupolaprovincia.com/deportes/detu...  deportes  \n",
              "18886  https://www.publico.es/politica/35-000-firmant...  politica  "
            ],
            "text/html": [
              "\n",
              "  <div id=\"df-8e59689a-dd4e-421b-88f4-60718959523a\">\n",
              "    <div class=\"colab-df-container\">\n",
              "      <div>\n",
              "<style scoped>\n",
              "    .dataframe tbody tr th:only-of-type {\n",
              "        vertical-align: middle;\n",
              "    }\n",
              "\n",
              "    .dataframe tbody tr th {\n",
              "        vertical-align: top;\n",
              "    }\n",
              "\n",
              "    .dataframe thead th {\n",
              "        text-align: right;\n",
              "    }\n",
              "</style>\n",
              "<table border=\"1\" class=\"dataframe\">\n",
              "  <thead>\n",
              "    <tr style=\"text-align: right;\">\n",
              "      <th></th>\n",
              "      <th>fecha</th>\n",
              "      <th>titulo</th>\n",
              "      <th>pais</th>\n",
              "      <th>extracto</th>\n",
              "      <th>resumen</th>\n",
              "      <th>enlace</th>\n",
              "      <th>categoria</th>\n",
              "    </tr>\n",
              "  </thead>\n",
              "  <tbody>\n",
              "    <tr>\n",
              "      <th>9045</th>\n",
              "      <td>2022-03-23 08:00:00</td>\n",
              "      <td>Detuvieron en Hungría al principal sospechoso ...</td>\n",
              "      <td>AR</td>\n",
              "      <td>El principal sospechoso de la muerte del exrug...</td>\n",
              "      <td>El principal sospechoso de la muerte del exrug...</td>\n",
              "      <td>https://www.grupolaprovincia.com/deportes/detu...</td>\n",
              "      <td>deportes</td>\n",
              "    </tr>\n",
              "    <tr>\n",
              "      <th>18886</th>\n",
              "      <td>2022-03-31 15:11:30</td>\n",
              "      <td>Casi 35.000 firmantes piden incluir la memoria...</td>\n",
              "      <td>ES</td>\n",
              "      <td>Entre los promotores de la iniciativa, difundi...</td>\n",
              "      <td>Representantes de organizaciones de memoria y ...</td>\n",
              "      <td>https://www.publico.es/politica/35-000-firmant...</td>\n",
              "      <td>politica</td>\n",
              "    </tr>\n",
              "  </tbody>\n",
              "</table>\n",
              "</div>\n",
              "      <button class=\"colab-df-convert\" onclick=\"convertToInteractive('df-8e59689a-dd4e-421b-88f4-60718959523a')\"\n",
              "              title=\"Convert this dataframe to an interactive table.\"\n",
              "              style=\"display:none;\">\n",
              "        \n",
              "  <svg xmlns=\"http://www.w3.org/2000/svg\" height=\"24px\"viewBox=\"0 0 24 24\"\n",
              "       width=\"24px\">\n",
              "    <path d=\"M0 0h24v24H0V0z\" fill=\"none\"/>\n",
              "    <path d=\"M18.56 5.44l.94 2.06.94-2.06 2.06-.94-2.06-.94-.94-2.06-.94 2.06-2.06.94zm-11 1L8.5 8.5l.94-2.06 2.06-.94-2.06-.94L8.5 2.5l-.94 2.06-2.06.94zm10 10l.94 2.06.94-2.06 2.06-.94-2.06-.94-.94-2.06-.94 2.06-2.06.94z\"/><path d=\"M17.41 7.96l-1.37-1.37c-.4-.4-.92-.59-1.43-.59-.52 0-1.04.2-1.43.59L10.3 9.45l-7.72 7.72c-.78.78-.78 2.05 0 2.83L4 21.41c.39.39.9.59 1.41.59.51 0 1.02-.2 1.41-.59l7.78-7.78 2.81-2.81c.8-.78.8-2.07 0-2.86zM5.41 20L4 18.59l7.72-7.72 1.47 1.35L5.41 20z\"/>\n",
              "  </svg>\n",
              "      </button>\n",
              "      \n",
              "  <style>\n",
              "    .colab-df-container {\n",
              "      display:flex;\n",
              "      flex-wrap:wrap;\n",
              "      gap: 12px;\n",
              "    }\n",
              "\n",
              "    .colab-df-convert {\n",
              "      background-color: #E8F0FE;\n",
              "      border: none;\n",
              "      border-radius: 50%;\n",
              "      cursor: pointer;\n",
              "      display: none;\n",
              "      fill: #1967D2;\n",
              "      height: 32px;\n",
              "      padding: 0 0 0 0;\n",
              "      width: 32px;\n",
              "    }\n",
              "\n",
              "    .colab-df-convert:hover {\n",
              "      background-color: #E2EBFA;\n",
              "      box-shadow: 0px 1px 2px rgba(60, 64, 67, 0.3), 0px 1px 3px 1px rgba(60, 64, 67, 0.15);\n",
              "      fill: #174EA6;\n",
              "    }\n",
              "\n",
              "    [theme=dark] .colab-df-convert {\n",
              "      background-color: #3B4455;\n",
              "      fill: #D2E3FC;\n",
              "    }\n",
              "\n",
              "    [theme=dark] .colab-df-convert:hover {\n",
              "      background-color: #434B5C;\n",
              "      box-shadow: 0px 1px 3px 1px rgba(0, 0, 0, 0.15);\n",
              "      filter: drop-shadow(0px 1px 2px rgba(0, 0, 0, 0.3));\n",
              "      fill: #FFFFFF;\n",
              "    }\n",
              "  </style>\n",
              "\n",
              "      <script>\n",
              "        const buttonEl =\n",
              "          document.querySelector('#df-8e59689a-dd4e-421b-88f4-60718959523a button.colab-df-convert');\n",
              "        buttonEl.style.display =\n",
              "          google.colab.kernel.accessAllowed ? 'block' : 'none';\n",
              "\n",
              "        async function convertToInteractive(key) {\n",
              "          const element = document.querySelector('#df-8e59689a-dd4e-421b-88f4-60718959523a');\n",
              "          const dataTable =\n",
              "            await google.colab.kernel.invokeFunction('convertToInteractive',\n",
              "                                                     [key], {});\n",
              "          if (!dataTable) return;\n",
              "\n",
              "          const docLinkHtml = 'Like what you see? Visit the ' +\n",
              "            '<a target=\"_blank\" href=https://colab.research.google.com/notebooks/data_table.ipynb>data table notebook</a>'\n",
              "            + ' to learn more about interactive tables.';\n",
              "          element.innerHTML = '';\n",
              "          dataTable['output_type'] = 'display_data';\n",
              "          await google.colab.output.renderOutput(dataTable, element);\n",
              "          const docLink = document.createElement('div');\n",
              "          docLink.innerHTML = docLinkHtml;\n",
              "          element.appendChild(docLink);\n",
              "        }\n",
              "      </script>\n",
              "    </div>\n",
              "  </div>\n",
              "  "
            ]
          },
          "metadata": {},
          "execution_count": 7
        }
      ]
    },
    {
      "cell_type": "code",
      "source": [
        "#!python -m spacy download es_core_news_sm"
      ],
      "metadata": {
        "id": "6JUXYgWL-A37"
      },
      "execution_count": 8,
      "outputs": []
    },
    {
      "cell_type": "code",
      "source": [
        "import spacy\n",
        "\n",
        "nlp = spacy.load(\"es_core_news_sm\")"
      ],
      "metadata": {
        "id": "aEfBrUVN-A6q"
      },
      "execution_count": 9,
      "outputs": []
    },
    {
      "cell_type": "markdown",
      "source": [
        "### 1.3 Spacy y sus estructuras"
      ],
      "metadata": {
        "id": "nS0BHqw7a0WU"
      }
    },
    {
      "cell_type": "code",
      "source": [
        "texto = \"Big Data es una ciencia que nos permite trabajar velozmente con grandes volúmenes de datos.\""
      ],
      "metadata": {
        "id": "YBzIlamSE1AY"
      },
      "execution_count": 10,
      "outputs": []
    },
    {
      "cell_type": "code",
      "source": [
        "doc = nlp(texto)"
      ],
      "metadata": {
        "id": "50-Dz21wHkXV"
      },
      "execution_count": 11,
      "outputs": []
    },
    {
      "cell_type": "code",
      "source": [
        "type(doc)"
      ],
      "metadata": {
        "colab": {
          "base_uri": "https://localhost:8080/"
        },
        "id": "WNkMyikPHkb6",
        "outputId": "a7bf3a53-d210-4f23-8b0e-dcad6cfa5a1d"
      },
      "execution_count": 12,
      "outputs": [
        {
          "output_type": "execute_result",
          "data": {
            "text/plain": [
              "spacy.tokens.doc.Doc"
            ]
          },
          "metadata": {},
          "execution_count": 12
        }
      ]
    },
    {
      "cell_type": "code",
      "source": [
        "doc[0]"
      ],
      "metadata": {
        "colab": {
          "base_uri": "https://localhost:8080/"
        },
        "id": "iGxBVt1vHkeu",
        "outputId": "84ea75be-0118-4082-d8c4-f409e07fcccb"
      },
      "execution_count": 13,
      "outputs": [
        {
          "output_type": "execute_result",
          "data": {
            "text/plain": [
              "Big"
            ]
          },
          "metadata": {},
          "execution_count": 13
        }
      ]
    },
    {
      "cell_type": "code",
      "source": [
        "doc.ents"
      ],
      "metadata": {
        "colab": {
          "base_uri": "https://localhost:8080/"
        },
        "id": "65DzGN03HkhA",
        "outputId": "c01f7fbb-f6ec-4f67-9230-d7aea63e7922"
      },
      "execution_count": 14,
      "outputs": [
        {
          "output_type": "execute_result",
          "data": {
            "text/plain": [
              "(Big Data,)"
            ]
          },
          "metadata": {},
          "execution_count": 14
        }
      ]
    },
    {
      "cell_type": "code",
      "source": [
        "doc[5].is_stop"
      ],
      "metadata": {
        "colab": {
          "base_uri": "https://localhost:8080/"
        },
        "id": "mbGC_PhhIo4m",
        "outputId": "86c7d589-afe7-4731-fa80-271485a23882"
      },
      "execution_count": 15,
      "outputs": [
        {
          "output_type": "execute_result",
          "data": {
            "text/plain": [
              "True"
            ]
          },
          "metadata": {},
          "execution_count": 15
        }
      ]
    },
    {
      "cell_type": "code",
      "source": [
        "doc[9].is_stop"
      ],
      "metadata": {
        "colab": {
          "base_uri": "https://localhost:8080/"
        },
        "id": "6nt73cnUI2jq",
        "outputId": "e149bbe7-75b4-4064-d504-d3312062eebe"
      },
      "execution_count": 16,
      "outputs": [
        {
          "output_type": "execute_result",
          "data": {
            "text/plain": [
              "False"
            ]
          },
          "metadata": {},
          "execution_count": 16
        }
      ]
    },
    {
      "cell_type": "code",
      "source": [
        "doc[9].pos_"
      ],
      "metadata": {
        "colab": {
          "base_uri": "https://localhost:8080/",
          "height": 36
        },
        "id": "y8mfMBFuI2mQ",
        "outputId": "836d0e53-37e2-472a-93e2-521056ca48fd"
      },
      "execution_count": 17,
      "outputs": [
        {
          "output_type": "execute_result",
          "data": {
            "text/plain": [
              "'ADV'"
            ],
            "application/vnd.google.colaboratory.intrinsic+json": {
              "type": "string"
            }
          },
          "metadata": {},
          "execution_count": 17
        }
      ]
    },
    {
      "cell_type": "markdown",
      "source": [
        "## Aula 2"
      ],
      "metadata": {
        "id": "FnGG3RMibMjR"
      }
    },
    {
      "cell_type": "markdown",
      "source": [
        "### 2.1 Preprocesamiento de los datos"
      ],
      "metadata": {
        "id": "zyfdQuI8bPW_"
      }
    },
    {
      "cell_type": "code",
      "source": [
        "texto_para_tratamiento = (titulo.lower() for titulo in noticias_train.titulo)"
      ],
      "metadata": {
        "id": "aoKipwvZARFS"
      },
      "execution_count": 18,
      "outputs": []
    },
    {
      "cell_type": "code",
      "source": [
        "def trata_texto(doc):\n",
        "  token_valido = []\n",
        "  for token in doc:\n",
        "    valido = not token.is_stop and token.is_alpha\n",
        "    if valido:\n",
        "      token_valido.append(token.text)\n",
        "  if len(token_valido) > 2:\n",
        "    return \" \".join(token_valido)"
      ],
      "metadata": {
        "id": "ghw4RkzxKyCm"
      },
      "execution_count": 19,
      "outputs": []
    },
    {
      "cell_type": "code",
      "source": [
        "texto = \"Big Data es una ciencia que nos permite trabajar velozmente con grandes volúmenes de datos.\"\n",
        "doc = nlp(texto)\n",
        "trata_texto(doc)"
      ],
      "metadata": {
        "colab": {
          "base_uri": "https://localhost:8080/",
          "height": 36
        },
        "id": "7kvSQQ_VKyE-",
        "outputId": "98da9e59-b4a2-498a-9897-57a7a0978ffc"
      },
      "execution_count": 20,
      "outputs": [
        {
          "output_type": "execute_result",
          "data": {
            "text/plain": [
              "'Big Data ciencia permite velozmente volúmenes datos'"
            ],
            "application/vnd.google.colaboratory.intrinsic+json": {
              "type": "string"
            }
          },
          "metadata": {},
          "execution_count": 20
        }
      ]
    },
    {
      "cell_type": "code",
      "source": [
        "texto = \"Big Data 4673423 es una ciencia! que nos permite  %¨&%$$%& trabajar velozmente con grandes -0898982 volúmenes de datos.\"\n",
        "doc = nlp(texto)\n",
        "trata_texto(doc)"
      ],
      "metadata": {
        "colab": {
          "base_uri": "https://localhost:8080/",
          "height": 36
        },
        "id": "nKAZdNBBKyKm",
        "outputId": "beb6ba00-ffd9-4d3b-e493-ac9cbbc913ec"
      },
      "execution_count": 21,
      "outputs": [
        {
          "output_type": "execute_result",
          "data": {
            "text/plain": [
              "'Big Data ciencia permite velozmente volúmenes datos'"
            ],
            "application/vnd.google.colaboratory.intrinsic+json": {
              "type": "string"
            }
          },
          "metadata": {},
          "execution_count": 21
        }
      ]
    },
    {
      "cell_type": "markdown",
      "source": [
        "### 2.2 Optimizando el tratamiento de los datos"
      ],
      "metadata": {
        "id": "8vuuJFVSbS8J"
      }
    },
    {
      "cell_type": "code",
      "source": [
        "from time import time\n",
        "\n",
        "t0 = time()\n",
        "texto_tratado = [trata_texto(doc) for doc in nlp.pipe(texto_para_tratamiento, batch_size=1000, n_process= -1)]\n",
        "tf = time()-t0\n",
        "\n",
        "print(tf/60)"
      ],
      "metadata": {
        "id": "1fYZ2OwNbake",
        "colab": {
          "base_uri": "https://localhost:8080/"
        },
        "outputId": "a01277de-09f7-43c0-fc57-1c6aaef094f4"
      },
      "execution_count": 22,
      "outputs": [
        {
          "output_type": "stream",
          "name": "stdout",
          "text": [
            "3.1199692209561665\n"
          ]
        }
      ]
    },
    {
      "cell_type": "code",
      "source": [
        "titulos_tratados = pd.DataFrame({'titulo': texto_tratado})\n",
        "titulos_tratados.head()"
      ],
      "metadata": {
        "colab": {
          "base_uri": "https://localhost:8080/",
          "height": 206
        },
        "id": "vIkjzXA5RDCk",
        "outputId": "99c8da73-d460-47e7-8e40-4d3699a7367a"
      },
      "execution_count": 23,
      "outputs": [
        {
          "output_type": "execute_result",
          "data": {
            "text/plain": [
              "                                              titulo\n",
              "0  tenso debate senado argentino refinanciamiento...\n",
              "1  triunfo dramático cruz azul duelo campeones atlas\n",
              "2      moderar inflación urgente marcha plan calviño\n",
              "3  llega the batman a hbo max mira fecha estreno ...\n",
              "4  guzmán default fmi implicaba ajuste y caída pr..."
            ],
            "text/html": [
              "\n",
              "  <div id=\"df-357878d1-4a3a-4bde-833f-d4136bbea402\">\n",
              "    <div class=\"colab-df-container\">\n",
              "      <div>\n",
              "<style scoped>\n",
              "    .dataframe tbody tr th:only-of-type {\n",
              "        vertical-align: middle;\n",
              "    }\n",
              "\n",
              "    .dataframe tbody tr th {\n",
              "        vertical-align: top;\n",
              "    }\n",
              "\n",
              "    .dataframe thead th {\n",
              "        text-align: right;\n",
              "    }\n",
              "</style>\n",
              "<table border=\"1\" class=\"dataframe\">\n",
              "  <thead>\n",
              "    <tr style=\"text-align: right;\">\n",
              "      <th></th>\n",
              "      <th>titulo</th>\n",
              "    </tr>\n",
              "  </thead>\n",
              "  <tbody>\n",
              "    <tr>\n",
              "      <th>0</th>\n",
              "      <td>tenso debate senado argentino refinanciamiento...</td>\n",
              "    </tr>\n",
              "    <tr>\n",
              "      <th>1</th>\n",
              "      <td>triunfo dramático cruz azul duelo campeones atlas</td>\n",
              "    </tr>\n",
              "    <tr>\n",
              "      <th>2</th>\n",
              "      <td>moderar inflación urgente marcha plan calviño</td>\n",
              "    </tr>\n",
              "    <tr>\n",
              "      <th>3</th>\n",
              "      <td>llega the batman a hbo max mira fecha estreno ...</td>\n",
              "    </tr>\n",
              "    <tr>\n",
              "      <th>4</th>\n",
              "      <td>guzmán default fmi implicaba ajuste y caída pr...</td>\n",
              "    </tr>\n",
              "  </tbody>\n",
              "</table>\n",
              "</div>\n",
              "      <button class=\"colab-df-convert\" onclick=\"convertToInteractive('df-357878d1-4a3a-4bde-833f-d4136bbea402')\"\n",
              "              title=\"Convert this dataframe to an interactive table.\"\n",
              "              style=\"display:none;\">\n",
              "        \n",
              "  <svg xmlns=\"http://www.w3.org/2000/svg\" height=\"24px\"viewBox=\"0 0 24 24\"\n",
              "       width=\"24px\">\n",
              "    <path d=\"M0 0h24v24H0V0z\" fill=\"none\"/>\n",
              "    <path d=\"M18.56 5.44l.94 2.06.94-2.06 2.06-.94-2.06-.94-.94-2.06-.94 2.06-2.06.94zm-11 1L8.5 8.5l.94-2.06 2.06-.94-2.06-.94L8.5 2.5l-.94 2.06-2.06.94zm10 10l.94 2.06.94-2.06 2.06-.94-2.06-.94-.94-2.06-.94 2.06-2.06.94z\"/><path d=\"M17.41 7.96l-1.37-1.37c-.4-.4-.92-.59-1.43-.59-.52 0-1.04.2-1.43.59L10.3 9.45l-7.72 7.72c-.78.78-.78 2.05 0 2.83L4 21.41c.39.39.9.59 1.41.59.51 0 1.02-.2 1.41-.59l7.78-7.78 2.81-2.81c.8-.78.8-2.07 0-2.86zM5.41 20L4 18.59l7.72-7.72 1.47 1.35L5.41 20z\"/>\n",
              "  </svg>\n",
              "      </button>\n",
              "      \n",
              "  <style>\n",
              "    .colab-df-container {\n",
              "      display:flex;\n",
              "      flex-wrap:wrap;\n",
              "      gap: 12px;\n",
              "    }\n",
              "\n",
              "    .colab-df-convert {\n",
              "      background-color: #E8F0FE;\n",
              "      border: none;\n",
              "      border-radius: 50%;\n",
              "      cursor: pointer;\n",
              "      display: none;\n",
              "      fill: #1967D2;\n",
              "      height: 32px;\n",
              "      padding: 0 0 0 0;\n",
              "      width: 32px;\n",
              "    }\n",
              "\n",
              "    .colab-df-convert:hover {\n",
              "      background-color: #E2EBFA;\n",
              "      box-shadow: 0px 1px 2px rgba(60, 64, 67, 0.3), 0px 1px 3px 1px rgba(60, 64, 67, 0.15);\n",
              "      fill: #174EA6;\n",
              "    }\n",
              "\n",
              "    [theme=dark] .colab-df-convert {\n",
              "      background-color: #3B4455;\n",
              "      fill: #D2E3FC;\n",
              "    }\n",
              "\n",
              "    [theme=dark] .colab-df-convert:hover {\n",
              "      background-color: #434B5C;\n",
              "      box-shadow: 0px 1px 3px 1px rgba(0, 0, 0, 0.15);\n",
              "      filter: drop-shadow(0px 1px 2px rgba(0, 0, 0, 0.3));\n",
              "      fill: #FFFFFF;\n",
              "    }\n",
              "  </style>\n",
              "\n",
              "      <script>\n",
              "        const buttonEl =\n",
              "          document.querySelector('#df-357878d1-4a3a-4bde-833f-d4136bbea402 button.colab-df-convert');\n",
              "        buttonEl.style.display =\n",
              "          google.colab.kernel.accessAllowed ? 'block' : 'none';\n",
              "\n",
              "        async function convertToInteractive(key) {\n",
              "          const element = document.querySelector('#df-357878d1-4a3a-4bde-833f-d4136bbea402');\n",
              "          const dataTable =\n",
              "            await google.colab.kernel.invokeFunction('convertToInteractive',\n",
              "                                                     [key], {});\n",
              "          if (!dataTable) return;\n",
              "\n",
              "          const docLinkHtml = 'Like what you see? Visit the ' +\n",
              "            '<a target=\"_blank\" href=https://colab.research.google.com/notebooks/data_table.ipynb>data table notebook</a>'\n",
              "            + ' to learn more about interactive tables.';\n",
              "          element.innerHTML = '';\n",
              "          dataTable['output_type'] = 'display_data';\n",
              "          await google.colab.output.renderOutput(dataTable, element);\n",
              "          const docLink = document.createElement('div');\n",
              "          docLink.innerHTML = docLinkHtml;\n",
              "          element.appendChild(docLink);\n",
              "        }\n",
              "      </script>\n",
              "    </div>\n",
              "  </div>\n",
              "  "
            ]
          },
          "metadata": {},
          "execution_count": 23
        }
      ]
    },
    {
      "cell_type": "code",
      "source": [
        "len(titulos_tratados)"
      ],
      "metadata": {
        "colab": {
          "base_uri": "https://localhost:8080/"
        },
        "id": "YNaM_Va8RDFd",
        "outputId": "b59113ad-d96a-4b86-8ff8-1c6c8c396526"
      },
      "execution_count": 24,
      "outputs": [
        {
          "output_type": "execute_result",
          "data": {
            "text/plain": [
              "91844"
            ]
          },
          "metadata": {},
          "execution_count": 24
        }
      ]
    },
    {
      "cell_type": "markdown",
      "source": [
        "## Aula 3"
      ],
      "metadata": {
        "id": "Mh-HYjArbeMS"
      }
    },
    {
      "cell_type": "markdown",
      "source": [
        "### 3.1 Hiperparámetros de Word2Vec"
      ],
      "metadata": {
        "id": "bFVStKr3bgd4"
      }
    },
    {
      "cell_type": "code",
      "source": [
        "from gensim.models import Word2Vec\n",
        "\n",
        "#modelo_w2v = Word2Vec(sg=0, size=300, window=2)"
      ],
      "metadata": {
        "id": "EDC46PmXbfy7",
        "colab": {
          "base_uri": "https://localhost:8080/"
        },
        "outputId": "08122b1e-94fb-4fc8-9409-d8ba1823ce62"
      },
      "execution_count": 25,
      "outputs": [
        {
          "output_type": "stream",
          "name": "stderr",
          "text": [
            "2022-05-21 16:30:14,118 - 'pattern' package not found; tag filters are not available for English\n"
          ]
        }
      ]
    },
    {
      "cell_type": "markdown",
      "source": [
        "### 3.2 Avanzando en los hiperparámetros"
      ],
      "metadata": {
        "id": "96E9bFgSblvH"
      }
    },
    {
      "cell_type": "code",
      "source": [
        "# Alura Aluras Aura Alure\n",
        "modelo_w2v = Word2Vec(sg=0, size=300, window=2, min_count=5, alpha=0.03, min_alpha=0.007)"
      ],
      "metadata": {
        "id": "z9N94YRQbtHm"
      },
      "execution_count": 60,
      "outputs": []
    },
    {
      "cell_type": "markdown",
      "source": [
        "### 3.3 Vocabulario Word2Vec"
      ],
      "metadata": {
        "id": "_mHrhwMdbx-t"
      }
    },
    {
      "cell_type": "code",
      "source": [
        "#modelo_w2v.build_vocab()"
      ],
      "metadata": {
        "id": "2PjGPtwDZDe8"
      },
      "execution_count": 27,
      "outputs": []
    },
    {
      "cell_type": "code",
      "source": [
        "#lista_lista_tokens = [titulo.split(\" \") for titulo in titulos_tratados.titulo]"
      ],
      "metadata": {
        "id": "pi3mtpeXakfE"
      },
      "execution_count": 28,
      "outputs": []
    },
    {
      "cell_type": "code",
      "source": [
        "titulos_tratados.isnull().value_counts()"
      ],
      "metadata": {
        "colab": {
          "base_uri": "https://localhost:8080/"
        },
        "id": "IasbqsHoakiK",
        "outputId": "cf5d3f9c-b2c7-4592-cfaf-d0f99731bb0a"
      },
      "execution_count": 29,
      "outputs": [
        {
          "output_type": "execute_result",
          "data": {
            "text/plain": [
              "titulo\n",
              "False     90725\n",
              "True       1119\n",
              "dtype: int64"
            ]
          },
          "metadata": {},
          "execution_count": 29
        }
      ]
    },
    {
      "cell_type": "code",
      "source": [
        "len(titulos_tratados)"
      ],
      "metadata": {
        "colab": {
          "base_uri": "https://localhost:8080/"
        },
        "id": "wml83v24akpj",
        "outputId": "00d03505-f0ae-4d78-b4bc-13a843ebddf0"
      },
      "execution_count": 30,
      "outputs": [
        {
          "output_type": "execute_result",
          "data": {
            "text/plain": [
              "91844"
            ]
          },
          "metadata": {},
          "execution_count": 30
        }
      ]
    },
    {
      "cell_type": "code",
      "source": [
        "titulos_tratados = titulos_tratados.dropna().drop_duplicates()"
      ],
      "metadata": {
        "id": "Oe7ndhkyakkR"
      },
      "execution_count": 31,
      "outputs": []
    },
    {
      "cell_type": "code",
      "source": [
        "len(titulos_tratados)"
      ],
      "metadata": {
        "colab": {
          "base_uri": "https://localhost:8080/"
        },
        "id": "knrpTOcAbUSx",
        "outputId": "7a23e325-254e-443a-fae7-a9c80f6b74b9"
      },
      "execution_count": 32,
      "outputs": [
        {
          "output_type": "execute_result",
          "data": {
            "text/plain": [
              "82706"
            ]
          },
          "metadata": {},
          "execution_count": 32
        }
      ]
    },
    {
      "cell_type": "code",
      "source": [
        "lista_lista_tokens = [titulo.split(\" \") for titulo in titulos_tratados.titulo]"
      ],
      "metadata": {
        "id": "cv_slatqbY7I"
      },
      "execution_count": 33,
      "outputs": []
    },
    {
      "cell_type": "code",
      "source": [
        "modelo_w2v.build_vocab(lista_lista_tokens, progress_per=5000)"
      ],
      "metadata": {
        "colab": {
          "base_uri": "https://localhost:8080/"
        },
        "id": "On6_h3QCbfCS",
        "outputId": "d8496cc1-9e02-4f2a-f411-919612c264f9"
      },
      "execution_count": 61,
      "outputs": [
        {
          "output_type": "stream",
          "name": "stderr",
          "text": [
            "2022-05-21 19:31:41,917 - collecting all words and their counts\n",
            "2022-05-21 19:31:41,919 - PROGRESS: at sentence #0, processed 0 words, keeping 0 word types\n",
            "2022-05-21 19:31:41,937 - PROGRESS: at sentence #5000, processed 36024 words, keeping 11773 word types\n",
            "2022-05-21 19:31:41,955 - PROGRESS: at sentence #10000, processed 72289 words, keeping 17745 word types\n",
            "2022-05-21 19:31:41,969 - PROGRESS: at sentence #15000, processed 108884 words, keeping 22201 word types\n",
            "2022-05-21 19:31:41,985 - PROGRESS: at sentence #20000, processed 145197 words, keeping 25928 word types\n",
            "2022-05-21 19:31:41,999 - PROGRESS: at sentence #25000, processed 181770 words, keeping 29043 word types\n",
            "2022-05-21 19:31:42,011 - PROGRESS: at sentence #30000, processed 217994 words, keeping 31821 word types\n",
            "2022-05-21 19:31:42,027 - PROGRESS: at sentence #35000, processed 254754 words, keeping 34393 word types\n",
            "2022-05-21 19:31:42,046 - PROGRESS: at sentence #40000, processed 291245 words, keeping 36753 word types\n",
            "2022-05-21 19:31:42,060 - PROGRESS: at sentence #45000, processed 328061 words, keeping 38876 word types\n",
            "2022-05-21 19:31:42,075 - PROGRESS: at sentence #50000, processed 364453 words, keeping 40898 word types\n",
            "2022-05-21 19:31:42,090 - PROGRESS: at sentence #55000, processed 401130 words, keeping 42860 word types\n",
            "2022-05-21 19:31:42,106 - PROGRESS: at sentence #60000, processed 437786 words, keeping 44523 word types\n",
            "2022-05-21 19:31:42,121 - PROGRESS: at sentence #65000, processed 474093 words, keeping 46120 word types\n",
            "2022-05-21 19:31:42,134 - PROGRESS: at sentence #70000, processed 510878 words, keeping 47715 word types\n",
            "2022-05-21 19:31:42,149 - PROGRESS: at sentence #75000, processed 547345 words, keeping 49236 word types\n",
            "2022-05-21 19:31:42,165 - PROGRESS: at sentence #80000, processed 584350 words, keeping 50682 word types\n",
            "2022-05-21 19:31:42,175 - collected 51437 word types from a corpus of 604214 raw words and 82706 sentences\n",
            "2022-05-21 19:31:42,176 - Loading a fresh vocabulary\n",
            "2022-05-21 19:31:42,222 - effective_min_count=5 retains 14832 unique words (28% of original 51437, drops 36605)\n",
            "2022-05-21 19:31:42,224 - effective_min_count=5 leaves 544173 word corpus (90% of original 604214, drops 60041)\n",
            "2022-05-21 19:31:42,272 - deleting the raw counts dictionary of 51437 items\n",
            "2022-05-21 19:31:42,279 - sample=0.001 downsamples 14 most-common words\n",
            "2022-05-21 19:31:42,281 - downsampling leaves estimated 497567 word corpus (91.4% of prior 544173)\n",
            "2022-05-21 19:31:42,333 - estimated required memory for 14832 words and 300 dimensions: 43012800 bytes\n",
            "2022-05-21 19:31:42,335 - resetting layer weights\n"
          ]
        }
      ]
    },
    {
      "cell_type": "markdown",
      "source": [
        "## Aula 4"
      ],
      "metadata": {
        "id": "GyrTRkhqb-kT"
      }
    },
    {
      "cell_type": "markdown",
      "source": [
        "### 4.1 Entrenando el modelo CBOW"
      ],
      "metadata": {
        "id": "k_c0Ib1acCe7"
      }
    },
    {
      "cell_type": "code",
      "source": [
        "dir(modelo_w2v)"
      ],
      "metadata": {
        "id": "_aOvOqDDb7Lr",
        "colab": {
          "base_uri": "https://localhost:8080/"
        },
        "outputId": "41e981b0-8b64-4050-b6eb-55abd0d85660"
      },
      "execution_count": 35,
      "outputs": [
        {
          "output_type": "execute_result",
          "data": {
            "text/plain": [
              "['__class__',\n",
              " '__contains__',\n",
              " '__delattr__',\n",
              " '__dict__',\n",
              " '__dir__',\n",
              " '__doc__',\n",
              " '__eq__',\n",
              " '__format__',\n",
              " '__ge__',\n",
              " '__getattribute__',\n",
              " '__getitem__',\n",
              " '__gt__',\n",
              " '__hash__',\n",
              " '__init__',\n",
              " '__init_subclass__',\n",
              " '__le__',\n",
              " '__lt__',\n",
              " '__module__',\n",
              " '__ne__',\n",
              " '__new__',\n",
              " '__reduce__',\n",
              " '__reduce_ex__',\n",
              " '__repr__',\n",
              " '__setattr__',\n",
              " '__sizeof__',\n",
              " '__str__',\n",
              " '__subclasshook__',\n",
              " '__weakref__',\n",
              " '_adapt_by_suffix',\n",
              " '_check_input_data_sanity',\n",
              " '_check_training_sanity',\n",
              " '_clear_post_train',\n",
              " '_do_train_epoch',\n",
              " '_do_train_job',\n",
              " '_get_job_params',\n",
              " '_get_thread_working_mem',\n",
              " '_job_producer',\n",
              " '_load_specials',\n",
              " '_log_epoch_end',\n",
              " '_log_epoch_progress',\n",
              " '_log_progress',\n",
              " '_log_train_end',\n",
              " '_minimize_model',\n",
              " '_raw_word_count',\n",
              " '_save_specials',\n",
              " '_set_train_params',\n",
              " '_smart_save',\n",
              " '_train_epoch',\n",
              " '_train_epoch_corpusfile',\n",
              " '_update_job_params',\n",
              " '_worker_loop',\n",
              " '_worker_loop_corpusfile',\n",
              " 'accuracy',\n",
              " 'alpha',\n",
              " 'batch_words',\n",
              " 'build_vocab',\n",
              " 'build_vocab_from_freq',\n",
              " 'callbacks',\n",
              " 'cbow_mean',\n",
              " 'clear_sims',\n",
              " 'compute_loss',\n",
              " 'corpus_count',\n",
              " 'corpus_total_words',\n",
              " 'cum_table',\n",
              " 'delete_temporary_training_data',\n",
              " 'doesnt_match',\n",
              " 'epochs',\n",
              " 'estimate_memory',\n",
              " 'evaluate_word_pairs',\n",
              " 'get_latest_training_loss',\n",
              " 'hashfxn',\n",
              " 'hs',\n",
              " 'init_sims',\n",
              " 'intersect_word2vec_format',\n",
              " 'iter',\n",
              " 'layer1_size',\n",
              " 'load',\n",
              " 'load_word2vec_format',\n",
              " 'log_accuracy',\n",
              " 'max_final_vocab',\n",
              " 'min_alpha',\n",
              " 'min_alpha_yet_reached',\n",
              " 'min_count',\n",
              " 'model_trimmed_post_training',\n",
              " 'most_similar',\n",
              " 'most_similar_cosmul',\n",
              " 'n_similarity',\n",
              " 'negative',\n",
              " 'ns_exponent',\n",
              " 'predict_output_word',\n",
              " 'random',\n",
              " 'reset_from',\n",
              " 'running_training_loss',\n",
              " 'sample',\n",
              " 'save',\n",
              " 'save_word2vec_format',\n",
              " 'score',\n",
              " 'sg',\n",
              " 'similar_by_vector',\n",
              " 'similar_by_word',\n",
              " 'similarity',\n",
              " 'syn0_lockf',\n",
              " 'syn1',\n",
              " 'syn1neg',\n",
              " 'total_train_time',\n",
              " 'train',\n",
              " 'train_count',\n",
              " 'trainables',\n",
              " 'vector_size',\n",
              " 'vocabulary',\n",
              " 'window',\n",
              " 'wmdistance',\n",
              " 'workers',\n",
              " 'wv']"
            ]
          },
          "metadata": {},
          "execution_count": 35
        }
      ]
    },
    {
      "cell_type": "code",
      "source": [
        "modelo_w2v.train(lista_lista_tokens,total_examples=modelo_w2v.corpus_count, epochs= 30)"
      ],
      "metadata": {
        "colab": {
          "base_uri": "https://localhost:8080/"
        },
        "id": "q1IvF-qhf5ew",
        "outputId": "6529e490-5ba0-447a-95e2-a98647b94d02"
      },
      "execution_count": 62,
      "outputs": [
        {
          "output_type": "stream",
          "name": "stderr",
          "text": [
            "2022-05-21 19:32:04,284 - training model with 3 workers on 14832 vocabulary and 300 features, using sg=0 hs=0 sample=0.001 negative=5 window=2\n",
            "2022-05-21 19:32:05,304 - EPOCH 1 - PROGRESS: at 69.56% examples, 344173 words/s, in_qsize 5, out_qsize 0\n",
            "2022-05-21 19:32:05,646 - worker thread finished; awaiting finish of 2 more threads\n",
            "2022-05-21 19:32:05,654 - worker thread finished; awaiting finish of 1 more threads\n",
            "2022-05-21 19:32:05,673 - worker thread finished; awaiting finish of 0 more threads\n",
            "2022-05-21 19:32:05,675 - EPOCH - 1 : training on 604214 raw words (497549 effective words) took 1.4s, 361487 effective words/s\n",
            "2022-05-21 19:32:06,701 - EPOCH 2 - PROGRESS: at 71.24% examples, 352231 words/s, in_qsize 6, out_qsize 0\n",
            "2022-05-21 19:32:07,066 - worker thread finished; awaiting finish of 2 more threads\n",
            "2022-05-21 19:32:07,071 - worker thread finished; awaiting finish of 1 more threads\n",
            "2022-05-21 19:32:07,091 - worker thread finished; awaiting finish of 0 more threads\n",
            "2022-05-21 19:32:07,092 - EPOCH - 2 : training on 604214 raw words (497452 effective words) took 1.4s, 356294 effective words/s\n",
            "2022-05-21 19:32:08,115 - EPOCH 3 - PROGRESS: at 76.23% examples, 377832 words/s, in_qsize 5, out_qsize 0\n",
            "2022-05-21 19:32:08,437 - worker thread finished; awaiting finish of 2 more threads\n",
            "2022-05-21 19:32:08,440 - worker thread finished; awaiting finish of 1 more threads\n",
            "2022-05-21 19:32:08,456 - worker thread finished; awaiting finish of 0 more threads\n",
            "2022-05-21 19:32:08,457 - EPOCH - 3 : training on 604214 raw words (497563 effective words) took 1.3s, 370122 effective words/s\n",
            "2022-05-21 19:32:09,504 - EPOCH 4 - PROGRESS: at 72.91% examples, 350892 words/s, in_qsize 5, out_qsize 0\n",
            "2022-05-21 19:32:09,811 - worker thread finished; awaiting finish of 2 more threads\n",
            "2022-05-21 19:32:09,835 - worker thread finished; awaiting finish of 1 more threads\n",
            "2022-05-21 19:32:09,847 - worker thread finished; awaiting finish of 0 more threads\n",
            "2022-05-21 19:32:09,848 - EPOCH - 4 : training on 604214 raw words (497491 effective words) took 1.4s, 361398 effective words/s\n",
            "2022-05-21 19:32:10,877 - EPOCH 5 - PROGRESS: at 77.86% examples, 381050 words/s, in_qsize 5, out_qsize 0\n",
            "2022-05-21 19:32:11,114 - worker thread finished; awaiting finish of 2 more threads\n",
            "2022-05-21 19:32:11,125 - worker thread finished; awaiting finish of 1 more threads\n",
            "2022-05-21 19:32:11,136 - worker thread finished; awaiting finish of 0 more threads\n",
            "2022-05-21 19:32:11,138 - EPOCH - 5 : training on 604214 raw words (497483 effective words) took 1.3s, 389873 effective words/s\n",
            "2022-05-21 19:32:12,159 - EPOCH 6 - PROGRESS: at 72.93% examples, 361904 words/s, in_qsize 5, out_qsize 0\n",
            "2022-05-21 19:32:12,489 - worker thread finished; awaiting finish of 2 more threads\n",
            "2022-05-21 19:32:12,504 - worker thread finished; awaiting finish of 1 more threads\n",
            "2022-05-21 19:32:12,511 - worker thread finished; awaiting finish of 0 more threads\n",
            "2022-05-21 19:32:12,513 - EPOCH - 6 : training on 604214 raw words (497618 effective words) took 1.4s, 367056 effective words/s\n",
            "2022-05-21 19:32:13,529 - EPOCH 7 - PROGRESS: at 71.24% examples, 352591 words/s, in_qsize 5, out_qsize 0\n",
            "2022-05-21 19:32:13,885 - worker thread finished; awaiting finish of 2 more threads\n",
            "2022-05-21 19:32:13,903 - worker thread finished; awaiting finish of 1 more threads\n",
            "2022-05-21 19:32:13,918 - worker thread finished; awaiting finish of 0 more threads\n",
            "2022-05-21 19:32:13,919 - EPOCH - 7 : training on 604214 raw words (497528 effective words) took 1.4s, 357093 effective words/s\n",
            "2022-05-21 19:32:14,956 - EPOCH 8 - PROGRESS: at 72.93% examples, 353998 words/s, in_qsize 5, out_qsize 0\n",
            "2022-05-21 19:32:15,253 - worker thread finished; awaiting finish of 2 more threads\n",
            "2022-05-21 19:32:15,271 - worker thread finished; awaiting finish of 1 more threads\n",
            "2022-05-21 19:32:15,278 - worker thread finished; awaiting finish of 0 more threads\n",
            "2022-05-21 19:32:15,280 - EPOCH - 8 : training on 604214 raw words (497344 effective words) took 1.3s, 369203 effective words/s\n",
            "2022-05-21 19:32:16,290 - EPOCH 9 - PROGRESS: at 67.96% examples, 337495 words/s, in_qsize 4, out_qsize 1\n",
            "2022-05-21 19:32:16,651 - worker thread finished; awaiting finish of 2 more threads\n",
            "2022-05-21 19:32:16,673 - worker thread finished; awaiting finish of 1 more threads\n",
            "2022-05-21 19:32:16,676 - worker thread finished; awaiting finish of 0 more threads\n",
            "2022-05-21 19:32:16,678 - EPOCH - 9 : training on 604214 raw words (497525 effective words) took 1.4s, 358590 effective words/s\n",
            "2022-05-21 19:32:17,731 - EPOCH 10 - PROGRESS: at 79.54% examples, 380473 words/s, in_qsize 5, out_qsize 0\n",
            "2022-05-21 19:32:17,943 - worker thread finished; awaiting finish of 2 more threads\n",
            "2022-05-21 19:32:17,963 - worker thread finished; awaiting finish of 1 more threads\n",
            "2022-05-21 19:32:17,977 - worker thread finished; awaiting finish of 0 more threads\n",
            "2022-05-21 19:32:17,978 - EPOCH - 10 : training on 604214 raw words (497643 effective words) took 1.3s, 386981 effective words/s\n",
            "2022-05-21 19:32:19,019 - EPOCH 11 - PROGRESS: at 71.24% examples, 343597 words/s, in_qsize 5, out_qsize 0\n",
            "2022-05-21 19:32:19,344 - worker thread finished; awaiting finish of 2 more threads\n",
            "2022-05-21 19:32:19,361 - worker thread finished; awaiting finish of 1 more threads\n",
            "2022-05-21 19:32:19,368 - worker thread finished; awaiting finish of 0 more threads\n",
            "2022-05-21 19:32:19,369 - EPOCH - 11 : training on 604214 raw words (497484 effective words) took 1.4s, 360568 effective words/s\n",
            "2022-05-21 19:32:20,421 - EPOCH 12 - PROGRESS: at 76.23% examples, 364938 words/s, in_qsize 5, out_qsize 0\n",
            "2022-05-21 19:32:20,692 - worker thread finished; awaiting finish of 2 more threads\n",
            "2022-05-21 19:32:20,700 - worker thread finished; awaiting finish of 1 more threads\n",
            "2022-05-21 19:32:20,713 - worker thread finished; awaiting finish of 0 more threads\n",
            "2022-05-21 19:32:20,714 - EPOCH - 12 : training on 604214 raw words (497525 effective words) took 1.3s, 373956 effective words/s\n",
            "2022-05-21 19:32:21,747 - EPOCH 13 - PROGRESS: at 66.29% examples, 322533 words/s, in_qsize 4, out_qsize 1\n",
            "2022-05-21 19:32:22,149 - worker thread finished; awaiting finish of 2 more threads\n",
            "2022-05-21 19:32:22,163 - worker thread finished; awaiting finish of 1 more threads\n",
            "2022-05-21 19:32:22,179 - worker thread finished; awaiting finish of 0 more threads\n",
            "2022-05-21 19:32:22,180 - EPOCH - 13 : training on 604214 raw words (497614 effective words) took 1.5s, 342207 effective words/s\n",
            "2022-05-21 19:32:23,206 - EPOCH 14 - PROGRESS: at 76.23% examples, 374758 words/s, in_qsize 5, out_qsize 0\n",
            "2022-05-21 19:32:23,456 - worker thread finished; awaiting finish of 2 more threads\n",
            "2022-05-21 19:32:23,475 - worker thread finished; awaiting finish of 1 more threads\n",
            "2022-05-21 19:32:23,477 - worker thread finished; awaiting finish of 0 more threads\n",
            "2022-05-21 19:32:23,480 - EPOCH - 14 : training on 604214 raw words (497597 effective words) took 1.3s, 387040 effective words/s\n",
            "2022-05-21 19:32:24,498 - EPOCH 15 - PROGRESS: at 69.59% examples, 344429 words/s, in_qsize 5, out_qsize 0\n",
            "2022-05-21 19:32:24,873 - worker thread finished; awaiting finish of 2 more threads\n",
            "2022-05-21 19:32:24,881 - worker thread finished; awaiting finish of 1 more threads\n",
            "2022-05-21 19:32:24,888 - worker thread finished; awaiting finish of 0 more threads\n",
            "2022-05-21 19:32:24,889 - EPOCH - 15 : training on 604214 raw words (497501 effective words) took 1.4s, 356753 effective words/s\n",
            "2022-05-21 19:32:25,961 - EPOCH 16 - PROGRESS: at 72.90% examples, 346242 words/s, in_qsize 6, out_qsize 1\n",
            "2022-05-21 19:32:26,234 - worker thread finished; awaiting finish of 2 more threads\n",
            "2022-05-21 19:32:26,249 - worker thread finished; awaiting finish of 1 more threads\n",
            "2022-05-21 19:32:26,254 - worker thread finished; awaiting finish of 0 more threads\n",
            "2022-05-21 19:32:26,256 - EPOCH - 16 : training on 604214 raw words (497532 effective words) took 1.4s, 368266 effective words/s\n",
            "2022-05-21 19:32:27,326 - EPOCH 17 - PROGRESS: at 81.16% examples, 385556 words/s, in_qsize 4, out_qsize 1\n",
            "2022-05-21 19:32:27,496 - worker thread finished; awaiting finish of 2 more threads\n",
            "2022-05-21 19:32:27,503 - worker thread finished; awaiting finish of 1 more threads\n",
            "2022-05-21 19:32:27,515 - worker thread finished; awaiting finish of 0 more threads\n",
            "2022-05-21 19:32:27,516 - EPOCH - 17 : training on 604214 raw words (497456 effective words) took 1.2s, 402144 effective words/s\n",
            "2022-05-21 19:32:28,542 - EPOCH 18 - PROGRESS: at 76.23% examples, 377416 words/s, in_qsize 6, out_qsize 0\n",
            "2022-05-21 19:32:28,804 - worker thread finished; awaiting finish of 2 more threads\n",
            "2022-05-21 19:32:28,811 - worker thread finished; awaiting finish of 1 more threads\n",
            "2022-05-21 19:32:28,825 - worker thread finished; awaiting finish of 0 more threads\n",
            "2022-05-21 19:32:28,827 - EPOCH - 18 : training on 604214 raw words (497438 effective words) took 1.3s, 386035 effective words/s\n",
            "2022-05-21 19:32:29,852 - EPOCH 19 - PROGRESS: at 79.52% examples, 389928 words/s, in_qsize 4, out_qsize 1\n",
            "2022-05-21 19:32:30,050 - worker thread finished; awaiting finish of 2 more threads\n",
            "2022-05-21 19:32:30,058 - worker thread finished; awaiting finish of 1 more threads\n",
            "2022-05-21 19:32:30,064 - worker thread finished; awaiting finish of 0 more threads\n",
            "2022-05-21 19:32:30,065 - EPOCH - 19 : training on 604214 raw words (497627 effective words) took 1.2s, 405460 effective words/s\n",
            "2022-05-21 19:32:31,093 - EPOCH 20 - PROGRESS: at 74.57% examples, 366370 words/s, in_qsize 4, out_qsize 1\n",
            "2022-05-21 19:32:31,346 - worker thread finished; awaiting finish of 2 more threads\n",
            "2022-05-21 19:32:31,366 - worker thread finished; awaiting finish of 1 more threads\n",
            "2022-05-21 19:32:31,372 - worker thread finished; awaiting finish of 0 more threads\n",
            "2022-05-21 19:32:31,375 - EPOCH - 20 : training on 604214 raw words (497533 effective words) took 1.3s, 384698 effective words/s\n",
            "2022-05-21 19:32:32,388 - EPOCH 21 - PROGRESS: at 76.23% examples, 376876 words/s, in_qsize 5, out_qsize 0\n",
            "2022-05-21 19:32:32,641 - worker thread finished; awaiting finish of 2 more threads\n",
            "2022-05-21 19:32:32,657 - worker thread finished; awaiting finish of 1 more threads\n",
            "2022-05-21 19:32:32,674 - worker thread finished; awaiting finish of 0 more threads\n",
            "2022-05-21 19:32:32,675 - EPOCH - 21 : training on 604214 raw words (497674 effective words) took 1.3s, 385176 effective words/s\n",
            "2022-05-21 19:32:33,714 - EPOCH 22 - PROGRESS: at 74.57% examples, 361661 words/s, in_qsize 5, out_qsize 0\n",
            "2022-05-21 19:32:33,990 - worker thread finished; awaiting finish of 2 more threads\n",
            "2022-05-21 19:32:34,006 - worker thread finished; awaiting finish of 1 more threads\n",
            "2022-05-21 19:32:34,014 - worker thread finished; awaiting finish of 0 more threads\n",
            "2022-05-21 19:32:34,015 - EPOCH - 22 : training on 604214 raw words (497687 effective words) took 1.3s, 375170 effective words/s\n",
            "2022-05-21 19:32:35,030 - EPOCH 23 - PROGRESS: at 72.93% examples, 362143 words/s, in_qsize 4, out_qsize 1\n",
            "2022-05-21 19:32:35,345 - worker thread finished; awaiting finish of 2 more threads\n",
            "2022-05-21 19:32:35,363 - worker thread finished; awaiting finish of 1 more threads\n",
            "2022-05-21 19:32:35,369 - worker thread finished; awaiting finish of 0 more threads\n",
            "2022-05-21 19:32:35,370 - EPOCH - 23 : training on 604214 raw words (497468 effective words) took 1.3s, 371250 effective words/s\n",
            "2022-05-21 19:32:36,390 - EPOCH 24 - PROGRESS: at 69.60% examples, 342952 words/s, in_qsize 5, out_qsize 0\n",
            "2022-05-21 19:32:36,767 - worker thread finished; awaiting finish of 2 more threads\n",
            "2022-05-21 19:32:36,786 - worker thread finished; awaiting finish of 1 more threads\n",
            "2022-05-21 19:32:36,800 - worker thread finished; awaiting finish of 0 more threads\n",
            "2022-05-21 19:32:36,802 - EPOCH - 24 : training on 604214 raw words (497470 effective words) took 1.4s, 350198 effective words/s\n",
            "2022-05-21 19:32:37,816 - EPOCH 25 - PROGRESS: at 69.60% examples, 345128 words/s, in_qsize 5, out_qsize 0\n",
            "2022-05-21 19:32:38,166 - worker thread finished; awaiting finish of 2 more threads\n",
            "2022-05-21 19:32:38,173 - worker thread finished; awaiting finish of 1 more threads\n",
            "2022-05-21 19:32:38,187 - worker thread finished; awaiting finish of 0 more threads\n",
            "2022-05-21 19:32:38,188 - EPOCH - 25 : training on 604214 raw words (497558 effective words) took 1.4s, 362159 effective words/s\n",
            "2022-05-21 19:32:39,209 - EPOCH 26 - PROGRESS: at 76.23% examples, 376610 words/s, in_qsize 5, out_qsize 0\n",
            "2022-05-21 19:32:39,451 - worker thread finished; awaiting finish of 2 more threads\n",
            "2022-05-21 19:32:39,469 - worker thread finished; awaiting finish of 1 more threads\n",
            "2022-05-21 19:32:39,473 - worker thread finished; awaiting finish of 0 more threads\n",
            "2022-05-21 19:32:39,475 - EPOCH - 26 : training on 604214 raw words (497595 effective words) took 1.3s, 391073 effective words/s\n",
            "2022-05-21 19:32:40,495 - EPOCH 27 - PROGRESS: at 72.90% examples, 361108 words/s, in_qsize 5, out_qsize 0\n",
            "2022-05-21 19:32:40,813 - worker thread finished; awaiting finish of 2 more threads\n",
            "2022-05-21 19:32:40,816 - worker thread finished; awaiting finish of 1 more threads\n",
            "2022-05-21 19:32:40,822 - worker thread finished; awaiting finish of 0 more threads\n",
            "2022-05-21 19:32:40,823 - EPOCH - 27 : training on 604214 raw words (497670 effective words) took 1.3s, 373833 effective words/s\n",
            "2022-05-21 19:32:41,839 - EPOCH 28 - PROGRESS: at 69.60% examples, 344960 words/s, in_qsize 5, out_qsize 0\n",
            "2022-05-21 19:32:42,211 - worker thread finished; awaiting finish of 2 more threads\n",
            "2022-05-21 19:32:42,228 - worker thread finished; awaiting finish of 1 more threads\n",
            "2022-05-21 19:32:42,234 - worker thread finished; awaiting finish of 0 more threads\n",
            "2022-05-21 19:32:42,235 - EPOCH - 28 : training on 604214 raw words (497634 effective words) took 1.4s, 355680 effective words/s\n",
            "2022-05-21 19:32:43,250 - EPOCH 29 - PROGRESS: at 69.60% examples, 344857 words/s, in_qsize 4, out_qsize 1\n",
            "2022-05-21 19:32:43,612 - worker thread finished; awaiting finish of 2 more threads\n",
            "2022-05-21 19:32:43,615 - worker thread finished; awaiting finish of 1 more threads\n",
            "2022-05-21 19:32:43,618 - worker thread finished; awaiting finish of 0 more threads\n",
            "2022-05-21 19:32:43,619 - EPOCH - 29 : training on 604214 raw words (497514 effective words) took 1.4s, 362825 effective words/s\n",
            "2022-05-21 19:32:44,641 - EPOCH 30 - PROGRESS: at 69.60% examples, 345081 words/s, in_qsize 5, out_qsize 2\n",
            "2022-05-21 19:32:44,977 - worker thread finished; awaiting finish of 2 more threads\n",
            "2022-05-21 19:32:44,984 - worker thread finished; awaiting finish of 1 more threads\n",
            "2022-05-21 19:32:44,993 - worker thread finished; awaiting finish of 0 more threads\n",
            "2022-05-21 19:32:44,994 - EPOCH - 30 : training on 604214 raw words (497426 effective words) took 1.4s, 367112 effective words/s\n",
            "2022-05-21 19:32:44,997 - training on a 18126420 raw words (14926199 effective words) took 40.7s, 366630 effective words/s\n"
          ]
        },
        {
          "output_type": "execute_result",
          "data": {
            "text/plain": [
              "(14926199, 18126420)"
            ]
          },
          "metadata": {},
          "execution_count": 62
        }
      ]
    },
    {
      "cell_type": "code",
      "source": [
        "modelo_w2v.wv.most_similar('google')"
      ],
      "metadata": {
        "colab": {
          "base_uri": "https://localhost:8080/"
        },
        "id": "JCN2E7S5f5hZ",
        "outputId": "689463b2-dd1b-48d7-e72a-c4823a244363"
      },
      "execution_count": 38,
      "outputs": [
        {
          "output_type": "stream",
          "name": "stderr",
          "text": [
            "2022-05-21 16:47:44,439 - precomputing L2-norms of word weight vectors\n"
          ]
        },
        {
          "output_type": "execute_result",
          "data": {
            "text/plain": [
              "[('maps', 0.6369116902351379),\n",
              " ('comandos', 0.5456988215446472),\n",
              " ('android', 0.535834789276123),\n",
              " ('chrome', 0.5238631367683411),\n",
              " ('apple', 0.49066129326820374),\n",
              " ('youtube', 0.4783938527107239),\n",
              " ('aplicación', 0.4661206901073456),\n",
              " ('gmail', 0.46569114923477173),\n",
              " ('emojis', 0.4551786482334137),\n",
              " ('búsquedas', 0.45385390520095825)]"
            ]
          },
          "metadata": {},
          "execution_count": 38
        }
      ]
    },
    {
      "cell_type": "code",
      "source": [
        "modelo_w2v.wv.most_similar('microsoft')"
      ],
      "metadata": {
        "colab": {
          "base_uri": "https://localhost:8080/"
        },
        "id": "FzUcfC_xf5jR",
        "outputId": "19212461-7328-4c43-fd97-e5d555829eaf"
      },
      "execution_count": 39,
      "outputs": [
        {
          "output_type": "execute_result",
          "data": {
            "text/plain": [
              "[('nvidia', 0.6905907392501831),\n",
              " ('intel', 0.656556248664856),\n",
              " ('nothing', 0.6197691559791565),\n",
              " ('ubisoft', 0.6106555461883545),\n",
              " ('legends', 0.5697228312492371),\n",
              " ('valve', 0.5564619302749634),\n",
              " ('portátiles', 0.5517499446868896),\n",
              " ('anonymous', 0.5517434477806091),\n",
              " ('apex', 0.551315188407898),\n",
              " ('playstation', 0.5439505577087402)]"
            ]
          },
          "metadata": {},
          "execution_count": 39
        }
      ]
    },
    {
      "cell_type": "code",
      "source": [
        "modelo_w2v.wv.most_similar('barcelona')"
      ],
      "metadata": {
        "colab": {
          "base_uri": "https://localhost:8080/"
        },
        "id": "EVLpAvwHf5l_",
        "outputId": "b174cef9-c28c-4dc9-ed3f-9743b4d0d6ba"
      },
      "execution_count": 40,
      "outputs": [
        {
          "output_type": "execute_result",
          "data": {
            "text/plain": [
              "[('barça', 0.500052273273468),\n",
              " ('mazatlán', 0.4968731701374054),\n",
              " ('guaireña', 0.48919326066970825),\n",
              " ('fc', 0.4702135920524597),\n",
              " ('athletic', 0.4365805387496948),\n",
              " ('jude', 0.4323718547821045),\n",
              " ('laporta', 0.43132758140563965),\n",
              " ('ousmane', 0.42659521102905273),\n",
              " ('erling', 0.4196600914001465),\n",
              " ('mbappé', 0.41796988248825073)]"
            ]
          },
          "metadata": {},
          "execution_count": 40
        }
      ]
    },
    {
      "cell_type": "code",
      "source": [
        "modelo_w2v.wv.most_similar('messi')"
      ],
      "metadata": {
        "colab": {
          "base_uri": "https://localhost:8080/"
        },
        "id": "Qe_cbrIDhZUN",
        "outputId": "1b79a38e-4eda-497d-f146-637ab7c5b2e0"
      },
      "execution_count": 41,
      "outputs": [
        {
          "output_type": "execute_result",
          "data": {
            "text/plain": [
              "[('lionel', 0.6659276485443115),\n",
              " ('scaloni', 0.5988843441009521),\n",
              " ('neymar', 0.5686666965484619),\n",
              " ('stegen', 0.5630759596824646),\n",
              " ('bombonera', 0.5622174739837646),\n",
              " ('roccuzzo', 0.5572490692138672),\n",
              " ('psg', 0.5546132922172546),\n",
              " ('ter', 0.5535578727722168),\n",
              " ('lewandowski', 0.5412269830703735),\n",
              " ('alturria', 0.5191042423248291)]"
            ]
          },
          "metadata": {},
          "execution_count": 41
        }
      ]
    },
    {
      "cell_type": "code",
      "source": [
        "modelo_w2v.wv.most_similar('ferrari')"
      ],
      "metadata": {
        "colab": {
          "base_uri": "https://localhost:8080/"
        },
        "id": "y0izX11dhZYw",
        "outputId": "a4053eb8-952a-4cfc-d35d-96de7ff4e252"
      },
      "execution_count": 42,
      "outputs": [
        {
          "output_type": "execute_result",
          "data": {
            "text/plain": [
              "[('leclerc', 0.7298225164413452),\n",
              " ('sainz', 0.6480276584625244),\n",
              " ('verstappen', 0.6208952069282532),\n",
              " ('bahrein', 0.5997858047485352),\n",
              " ('obradoiro', 0.5260280966758728),\n",
              " ('pole', 0.5216978788375854),\n",
              " ('hyundai', 0.507645845413208),\n",
              " ('position', 0.5043960809707642),\n",
              " ('australia', 0.5037184953689575),\n",
              " ('memphis', 0.48718520998954773)]"
            ]
          },
          "metadata": {},
          "execution_count": 42
        }
      ]
    },
    {
      "cell_type": "markdown",
      "source": [
        "### 4.2 Entrenando el modelo Skip Gram"
      ],
      "metadata": {
        "id": "rMvPNYUHcHdE"
      }
    },
    {
      "cell_type": "code",
      "source": [
        "modelo_w2v_sg = Word2Vec(sg=1, size=300, window=5, min_count=5, alpha=0.03, min_alpha=0.007)\n",
        "\n",
        "modelo_w2v_sg.build_vocab(lista_lista_tokens, progress_per=5000)\n",
        "\n",
        "modelo_w2v_sg.train(lista_lista_tokens,total_examples=modelo_w2v_sg.corpus_count, epochs= 30)"
      ],
      "metadata": {
        "colab": {
          "base_uri": "https://localhost:8080/"
        },
        "id": "sCGC-H3SiSy_",
        "outputId": "0a19195a-3a14-4d29-b909-db5e505a0c7a"
      },
      "execution_count": 43,
      "outputs": [
        {
          "output_type": "stream",
          "name": "stderr",
          "text": [
            "2022-05-21 16:59:02,385 - collecting all words and their counts\n",
            "2022-05-21 16:59:02,392 - PROGRESS: at sentence #0, processed 0 words, keeping 0 word types\n",
            "2022-05-21 16:59:02,414 - PROGRESS: at sentence #5000, processed 36024 words, keeping 11773 word types\n",
            "2022-05-21 16:59:02,429 - PROGRESS: at sentence #10000, processed 72289 words, keeping 17745 word types\n",
            "2022-05-21 16:59:02,447 - PROGRESS: at sentence #15000, processed 108884 words, keeping 22201 word types\n",
            "2022-05-21 16:59:02,466 - PROGRESS: at sentence #20000, processed 145197 words, keeping 25928 word types\n",
            "2022-05-21 16:59:02,483 - PROGRESS: at sentence #25000, processed 181770 words, keeping 29043 word types\n",
            "2022-05-21 16:59:02,500 - PROGRESS: at sentence #30000, processed 217994 words, keeping 31821 word types\n",
            "2022-05-21 16:59:02,517 - PROGRESS: at sentence #35000, processed 254754 words, keeping 34393 word types\n",
            "2022-05-21 16:59:02,533 - PROGRESS: at sentence #40000, processed 291245 words, keeping 36753 word types\n",
            "2022-05-21 16:59:02,551 - PROGRESS: at sentence #45000, processed 328061 words, keeping 38876 word types\n",
            "2022-05-21 16:59:02,570 - PROGRESS: at sentence #50000, processed 364453 words, keeping 40898 word types\n",
            "2022-05-21 16:59:02,586 - PROGRESS: at sentence #55000, processed 401130 words, keeping 42860 word types\n",
            "2022-05-21 16:59:02,607 - PROGRESS: at sentence #60000, processed 437786 words, keeping 44523 word types\n",
            "2022-05-21 16:59:02,628 - PROGRESS: at sentence #65000, processed 474093 words, keeping 46120 word types\n",
            "2022-05-21 16:59:02,649 - PROGRESS: at sentence #70000, processed 510878 words, keeping 47715 word types\n",
            "2022-05-21 16:59:02,670 - PROGRESS: at sentence #75000, processed 547345 words, keeping 49236 word types\n",
            "2022-05-21 16:59:02,690 - PROGRESS: at sentence #80000, processed 584350 words, keeping 50682 word types\n",
            "2022-05-21 16:59:02,701 - collected 51437 word types from a corpus of 604214 raw words and 82706 sentences\n",
            "2022-05-21 16:59:02,703 - Loading a fresh vocabulary\n",
            "2022-05-21 16:59:02,756 - effective_min_count=5 retains 14832 unique words (28% of original 51437, drops 36605)\n",
            "2022-05-21 16:59:02,758 - effective_min_count=5 leaves 544173 word corpus (90% of original 604214, drops 60041)\n",
            "2022-05-21 16:59:02,813 - deleting the raw counts dictionary of 51437 items\n",
            "2022-05-21 16:59:02,818 - sample=0.001 downsamples 14 most-common words\n",
            "2022-05-21 16:59:02,821 - downsampling leaves estimated 497567 word corpus (91.4% of prior 544173)\n",
            "2022-05-21 16:59:02,890 - estimated required memory for 14832 words and 300 dimensions: 43012800 bytes\n",
            "2022-05-21 16:59:02,891 - resetting layer weights\n",
            "2022-05-21 16:59:05,936 - training model with 3 workers on 14832 vocabulary and 300 features, using sg=1 hs=0 sample=0.001 negative=5 window=5\n",
            "2022-05-21 16:59:06,972 - EPOCH 1 - PROGRESS: at 26.59% examples, 128693 words/s, in_qsize 5, out_qsize 0\n",
            "2022-05-21 16:59:08,016 - EPOCH 1 - PROGRESS: at 56.37% examples, 135349 words/s, in_qsize 5, out_qsize 0\n",
            "2022-05-21 16:59:09,022 - EPOCH 1 - PROGRESS: at 84.46% examples, 136595 words/s, in_qsize 5, out_qsize 0\n",
            "2022-05-21 16:59:09,515 - worker thread finished; awaiting finish of 2 more threads\n",
            "2022-05-21 16:59:09,561 - worker thread finished; awaiting finish of 1 more threads\n",
            "2022-05-21 16:59:09,598 - worker thread finished; awaiting finish of 0 more threads\n",
            "2022-05-21 16:59:09,599 - EPOCH - 1 : training on 604214 raw words (497533 effective words) took 3.7s, 136254 effective words/s\n",
            "2022-05-21 16:59:10,624 - EPOCH 2 - PROGRESS: at 26.59% examples, 130092 words/s, in_qsize 5, out_qsize 0\n",
            "2022-05-21 16:59:11,660 - EPOCH 2 - PROGRESS: at 56.37% examples, 136632 words/s, in_qsize 5, out_qsize 0\n",
            "2022-05-21 16:59:12,666 - EPOCH 2 - PROGRESS: at 84.46% examples, 137483 words/s, in_qsize 5, out_qsize 0\n",
            "2022-05-21 16:59:13,097 - worker thread finished; awaiting finish of 2 more threads\n",
            "2022-05-21 16:59:13,118 - worker thread finished; awaiting finish of 1 more threads\n",
            "2022-05-21 16:59:13,136 - worker thread finished; awaiting finish of 0 more threads\n",
            "2022-05-21 16:59:13,138 - EPOCH - 2 : training on 604214 raw words (497633 effective words) took 3.5s, 141097 effective words/s\n",
            "2022-05-21 16:59:14,249 - EPOCH 3 - PROGRESS: at 28.27% examples, 128059 words/s, in_qsize 5, out_qsize 0\n",
            "2022-05-21 16:59:15,287 - EPOCH 3 - PROGRESS: at 58.03% examples, 135160 words/s, in_qsize 5, out_qsize 0\n",
            "2022-05-21 16:59:16,345 - EPOCH 3 - PROGRESS: at 87.77% examples, 136788 words/s, in_qsize 5, out_qsize 0\n",
            "2022-05-21 16:59:16,611 - worker thread finished; awaiting finish of 2 more threads\n",
            "2022-05-21 16:59:16,691 - worker thread finished; awaiting finish of 1 more threads\n",
            "2022-05-21 16:59:16,695 - worker thread finished; awaiting finish of 0 more threads\n",
            "2022-05-21 16:59:16,696 - EPOCH - 3 : training on 604214 raw words (497691 effective words) took 3.5s, 140515 effective words/s\n",
            "2022-05-21 16:59:17,794 - EPOCH 4 - PROGRESS: at 28.27% examples, 131481 words/s, in_qsize 5, out_qsize 0\n",
            "2022-05-21 16:59:18,873 - EPOCH 4 - PROGRESS: at 58.03% examples, 134383 words/s, in_qsize 5, out_qsize 0\n",
            "2022-05-21 16:59:19,917 - EPOCH 4 - PROGRESS: at 87.77% examples, 136840 words/s, in_qsize 5, out_qsize 0\n",
            "2022-05-21 16:59:20,202 - worker thread finished; awaiting finish of 2 more threads\n",
            "2022-05-21 16:59:20,256 - worker thread finished; awaiting finish of 1 more threads\n",
            "2022-05-21 16:59:20,300 - worker thread finished; awaiting finish of 0 more threads\n",
            "2022-05-21 16:59:20,302 - EPOCH - 4 : training on 604214 raw words (497485 effective words) took 3.6s, 139231 effective words/s\n",
            "2022-05-21 16:59:21,395 - EPOCH 5 - PROGRESS: at 28.25% examples, 129687 words/s, in_qsize 5, out_qsize 0\n",
            "2022-05-21 16:59:22,457 - EPOCH 5 - PROGRESS: at 58.03% examples, 134509 words/s, in_qsize 5, out_qsize 0\n",
            "2022-05-21 16:59:23,463 - EPOCH 5 - PROGRESS: at 87.77% examples, 138579 words/s, in_qsize 5, out_qsize 0\n",
            "2022-05-21 16:59:23,767 - worker thread finished; awaiting finish of 2 more threads\n",
            "2022-05-21 16:59:23,817 - worker thread finished; awaiting finish of 1 more threads\n",
            "2022-05-21 16:59:23,863 - worker thread finished; awaiting finish of 0 more threads\n",
            "2022-05-21 16:59:23,866 - EPOCH - 5 : training on 604214 raw words (497490 effective words) took 3.6s, 140109 effective words/s\n",
            "2022-05-21 16:59:24,925 - EPOCH 6 - PROGRESS: at 26.59% examples, 125799 words/s, in_qsize 5, out_qsize 0\n",
            "2022-05-21 16:59:26,012 - EPOCH 6 - PROGRESS: at 58.03% examples, 134888 words/s, in_qsize 5, out_qsize 0\n",
            "2022-05-21 16:59:27,039 - EPOCH 6 - PROGRESS: at 87.77% examples, 137982 words/s, in_qsize 5, out_qsize 0\n",
            "2022-05-21 16:59:27,339 - worker thread finished; awaiting finish of 2 more threads\n",
            "2022-05-21 16:59:27,375 - worker thread finished; awaiting finish of 1 more threads\n",
            "2022-05-21 16:59:27,390 - worker thread finished; awaiting finish of 0 more threads\n",
            "2022-05-21 16:59:27,391 - EPOCH - 6 : training on 604214 raw words (497347 effective words) took 3.5s, 141527 effective words/s\n",
            "2022-05-21 16:59:28,491 - EPOCH 7 - PROGRESS: at 28.27% examples, 128722 words/s, in_qsize 5, out_qsize 0\n",
            "2022-05-21 16:59:29,562 - EPOCH 7 - PROGRESS: at 58.01% examples, 133461 words/s, in_qsize 5, out_qsize 0\n",
            "2022-05-21 16:59:30,593 - EPOCH 7 - PROGRESS: at 87.77% examples, 136828 words/s, in_qsize 5, out_qsize 0\n",
            "2022-05-21 16:59:30,904 - worker thread finished; awaiting finish of 2 more threads\n",
            "2022-05-21 16:59:30,955 - worker thread finished; awaiting finish of 1 more threads\n",
            "2022-05-21 16:59:30,967 - worker thread finished; awaiting finish of 0 more threads\n",
            "2022-05-21 16:59:30,968 - EPOCH - 7 : training on 604214 raw words (497656 effective words) took 3.6s, 139578 effective words/s\n",
            "2022-05-21 16:59:32,043 - EPOCH 8 - PROGRESS: at 28.25% examples, 132347 words/s, in_qsize 5, out_qsize 0\n",
            "2022-05-21 16:59:33,099 - EPOCH 8 - PROGRESS: at 58.03% examples, 136262 words/s, in_qsize 5, out_qsize 0\n",
            "2022-05-21 16:59:34,135 - EPOCH 8 - PROGRESS: at 86.12% examples, 135950 words/s, in_qsize 5, out_qsize 0\n",
            "2022-05-21 16:59:34,488 - worker thread finished; awaiting finish of 2 more threads\n",
            "2022-05-21 16:59:34,528 - worker thread finished; awaiting finish of 1 more threads\n",
            "2022-05-21 16:59:34,545 - worker thread finished; awaiting finish of 0 more threads\n",
            "2022-05-21 16:59:34,546 - EPOCH - 8 : training on 604214 raw words (497610 effective words) took 3.6s, 139737 effective words/s\n",
            "2022-05-21 16:59:35,578 - EPOCH 9 - PROGRESS: at 26.60% examples, 129339 words/s, in_qsize 5, out_qsize 0\n",
            "2022-05-21 16:59:36,699 - EPOCH 9 - PROGRESS: at 58.03% examples, 134572 words/s, in_qsize 5, out_qsize 0\n",
            "2022-05-21 16:59:37,761 - EPOCH 9 - PROGRESS: at 87.77% examples, 136234 words/s, in_qsize 5, out_qsize 0\n",
            "2022-05-21 16:59:38,036 - worker thread finished; awaiting finish of 2 more threads\n",
            "2022-05-21 16:59:38,085 - worker thread finished; awaiting finish of 1 more threads\n",
            "2022-05-21 16:59:38,088 - worker thread finished; awaiting finish of 0 more threads\n",
            "2022-05-21 16:59:38,090 - EPOCH - 9 : training on 604214 raw words (497535 effective words) took 3.5s, 140870 effective words/s\n",
            "2022-05-21 16:59:39,141 - EPOCH 10 - PROGRESS: at 26.59% examples, 127230 words/s, in_qsize 5, out_qsize 0\n",
            "2022-05-21 16:59:40,158 - EPOCH 10 - PROGRESS: at 56.37% examples, 136386 words/s, in_qsize 5, out_qsize 0\n",
            "2022-05-21 16:59:41,164 - EPOCH 10 - PROGRESS: at 84.46% examples, 137331 words/s, in_qsize 5, out_qsize 0\n",
            "2022-05-21 16:59:41,650 - worker thread finished; awaiting finish of 2 more threads\n",
            "2022-05-21 16:59:41,697 - worker thread finished; awaiting finish of 1 more threads\n",
            "2022-05-21 16:59:41,714 - worker thread finished; awaiting finish of 0 more threads\n",
            "2022-05-21 16:59:41,715 - EPOCH - 10 : training on 604214 raw words (497621 effective words) took 3.6s, 137879 effective words/s\n",
            "2022-05-21 16:59:42,779 - EPOCH 11 - PROGRESS: at 28.25% examples, 133301 words/s, in_qsize 5, out_qsize 0\n",
            "2022-05-21 16:59:43,854 - EPOCH 11 - PROGRESS: at 58.03% examples, 135549 words/s, in_qsize 5, out_qsize 0\n",
            "2022-05-21 16:59:44,894 - EPOCH 11 - PROGRESS: at 87.79% examples, 137860 words/s, in_qsize 5, out_qsize 0\n",
            "2022-05-21 16:59:45,209 - worker thread finished; awaiting finish of 2 more threads\n",
            "2022-05-21 16:59:45,231 - worker thread finished; awaiting finish of 1 more threads\n",
            "2022-05-21 16:59:45,248 - worker thread finished; awaiting finish of 0 more threads\n",
            "2022-05-21 16:59:45,250 - EPOCH - 11 : training on 604214 raw words (497509 effective words) took 3.5s, 141331 effective words/s\n",
            "2022-05-21 16:59:46,270 - EPOCH 12 - PROGRESS: at 24.95% examples, 122593 words/s, in_qsize 4, out_qsize 1\n",
            "2022-05-21 16:59:47,290 - EPOCH 12 - PROGRESS: at 54.71% examples, 133915 words/s, in_qsize 5, out_qsize 0\n",
            "2022-05-21 16:59:48,379 - EPOCH 12 - PROGRESS: at 86.10% examples, 137340 words/s, in_qsize 6, out_qsize 0\n",
            "2022-05-21 16:59:48,759 - worker thread finished; awaiting finish of 2 more threads\n",
            "2022-05-21 16:59:48,769 - worker thread finished; awaiting finish of 1 more threads\n",
            "2022-05-21 16:59:48,798 - worker thread finished; awaiting finish of 0 more threads\n",
            "2022-05-21 16:59:48,800 - EPOCH - 12 : training on 604214 raw words (497471 effective words) took 3.5s, 140620 effective words/s\n",
            "2022-05-21 16:59:49,906 - EPOCH 13 - PROGRESS: at 18.32% examples, 82838 words/s, in_qsize 5, out_qsize 0\n",
            "2022-05-21 16:59:50,943 - EPOCH 13 - PROGRESS: at 44.83% examples, 104176 words/s, in_qsize 5, out_qsize 0\n",
            "2022-05-21 16:59:52,053 - EPOCH 13 - PROGRESS: at 74.57% examples, 114227 words/s, in_qsize 5, out_qsize 0\n",
            "2022-05-21 16:59:52,800 - worker thread finished; awaiting finish of 2 more threads\n",
            "2022-05-21 16:59:52,817 - worker thread finished; awaiting finish of 1 more threads\n",
            "2022-05-21 16:59:52,852 - worker thread finished; awaiting finish of 0 more threads\n",
            "2022-05-21 16:59:52,853 - EPOCH - 13 : training on 604214 raw words (497458 effective words) took 4.0s, 123050 effective words/s\n",
            "2022-05-21 16:59:53,873 - EPOCH 14 - PROGRESS: at 26.59% examples, 131008 words/s, in_qsize 5, out_qsize 0\n",
            "2022-05-21 16:59:54,876 - EPOCH 14 - PROGRESS: at 54.71% examples, 135217 words/s, in_qsize 5, out_qsize 0\n",
            "2022-05-21 16:59:55,919 - EPOCH 14 - PROGRESS: at 86.12% examples, 140278 words/s, in_qsize 5, out_qsize 0\n",
            "2022-05-21 16:59:56,329 - worker thread finished; awaiting finish of 2 more threads\n",
            "2022-05-21 16:59:56,343 - worker thread finished; awaiting finish of 1 more threads\n",
            "2022-05-21 16:59:56,346 - worker thread finished; awaiting finish of 0 more threads\n",
            "2022-05-21 16:59:56,348 - EPOCH - 14 : training on 604214 raw words (497568 effective words) took 3.5s, 142952 effective words/s\n",
            "2022-05-21 16:59:57,395 - EPOCH 15 - PROGRESS: at 28.25% examples, 135258 words/s, in_qsize 5, out_qsize 0\n",
            "2022-05-21 16:59:58,489 - EPOCH 15 - PROGRESS: at 58.03% examples, 135283 words/s, in_qsize 5, out_qsize 0\n",
            "2022-05-21 16:59:59,572 - EPOCH 15 - PROGRESS: at 91.09% examples, 140965 words/s, in_qsize 5, out_qsize 0\n",
            "2022-05-21 16:59:59,768 - worker thread finished; awaiting finish of 2 more threads\n",
            "2022-05-21 16:59:59,783 - worker thread finished; awaiting finish of 1 more threads\n",
            "2022-05-21 16:59:59,826 - worker thread finished; awaiting finish of 0 more threads\n",
            "2022-05-21 16:59:59,828 - EPOCH - 15 : training on 604214 raw words (497554 effective words) took 3.5s, 143440 effective words/s\n",
            "2022-05-21 17:00:00,965 - EPOCH 16 - PROGRESS: at 29.92% examples, 132035 words/s, in_qsize 5, out_qsize 0\n",
            "2022-05-21 17:00:02,026 - EPOCH 16 - PROGRESS: at 59.69% examples, 135703 words/s, in_qsize 5, out_qsize 0\n",
            "2022-05-21 17:00:03,041 - EPOCH 16 - PROGRESS: at 89.43% examples, 138979 words/s, in_qsize 5, out_qsize 0\n",
            "2022-05-21 17:00:03,255 - worker thread finished; awaiting finish of 2 more threads\n",
            "2022-05-21 17:00:03,305 - worker thread finished; awaiting finish of 1 more threads\n",
            "2022-05-21 17:00:03,338 - worker thread finished; awaiting finish of 0 more threads\n",
            "2022-05-21 17:00:03,339 - EPOCH - 16 : training on 604214 raw words (497455 effective words) took 3.5s, 142298 effective words/s\n",
            "2022-05-21 17:00:04,406 - EPOCH 17 - PROGRESS: at 28.25% examples, 133181 words/s, in_qsize 5, out_qsize 0\n",
            "2022-05-21 17:00:05,434 - EPOCH 17 - PROGRESS: at 58.03% examples, 138568 words/s, in_qsize 5, out_qsize 0\n",
            "2022-05-21 17:00:06,470 - EPOCH 17 - PROGRESS: at 89.43% examples, 142683 words/s, in_qsize 5, out_qsize 0\n",
            "2022-05-21 17:00:06,736 - worker thread finished; awaiting finish of 2 more threads\n",
            "2022-05-21 17:00:06,752 - worker thread finished; awaiting finish of 1 more threads\n",
            "2022-05-21 17:00:06,776 - worker thread finished; awaiting finish of 0 more threads\n",
            "2022-05-21 17:00:06,777 - EPOCH - 17 : training on 604214 raw words (497572 effective words) took 3.4s, 145377 effective words/s\n",
            "2022-05-21 17:00:07,925 - EPOCH 18 - PROGRESS: at 29.92% examples, 130632 words/s, in_qsize 5, out_qsize 0\n",
            "2022-05-21 17:00:08,940 - EPOCH 18 - PROGRESS: at 59.69% examples, 137823 words/s, in_qsize 5, out_qsize 0\n",
            "2022-05-21 17:00:09,949 - EPOCH 18 - PROGRESS: at 89.43% examples, 140743 words/s, in_qsize 5, out_qsize 0\n",
            "2022-05-21 17:00:10,239 - worker thread finished; awaiting finish of 2 more threads\n",
            "2022-05-21 17:00:10,244 - worker thread finished; awaiting finish of 1 more threads\n",
            "2022-05-21 17:00:10,262 - worker thread finished; awaiting finish of 0 more threads\n",
            "2022-05-21 17:00:10,263 - EPOCH - 18 : training on 604214 raw words (497651 effective words) took 3.5s, 143275 effective words/s\n",
            "2022-05-21 17:00:11,349 - EPOCH 19 - PROGRESS: at 28.25% examples, 130262 words/s, in_qsize 5, out_qsize 0\n",
            "2022-05-21 17:00:12,429 - EPOCH 19 - PROGRESS: at 58.03% examples, 133700 words/s, in_qsize 5, out_qsize 0\n",
            "2022-05-21 17:00:13,490 - EPOCH 19 - PROGRESS: at 89.43% examples, 138228 words/s, in_qsize 5, out_qsize 0\n",
            "2022-05-21 17:00:13,721 - worker thread finished; awaiting finish of 2 more threads\n",
            "2022-05-21 17:00:13,770 - worker thread finished; awaiting finish of 1 more threads\n",
            "2022-05-21 17:00:13,806 - worker thread finished; awaiting finish of 0 more threads\n",
            "2022-05-21 17:00:13,809 - EPOCH - 19 : training on 604214 raw words (497544 effective words) took 3.5s, 140775 effective words/s\n",
            "2022-05-21 17:00:14,829 - EPOCH 20 - PROGRESS: at 28.27% examples, 138957 words/s, in_qsize 4, out_qsize 1\n",
            "2022-05-21 17:00:15,854 - EPOCH 20 - PROGRESS: at 59.67% examples, 145719 words/s, in_qsize 5, out_qsize 0\n",
            "2022-05-21 17:00:16,860 - EPOCH 20 - PROGRESS: at 89.42% examples, 146286 words/s, in_qsize 5, out_qsize 0\n",
            "2022-05-21 17:00:17,121 - worker thread finished; awaiting finish of 2 more threads\n",
            "2022-05-21 17:00:17,147 - worker thread finished; awaiting finish of 1 more threads\n",
            "2022-05-21 17:00:17,191 - worker thread finished; awaiting finish of 0 more threads\n",
            "2022-05-21 17:00:17,194 - EPOCH - 20 : training on 604214 raw words (497766 effective words) took 3.4s, 147528 effective words/s\n",
            "2022-05-21 17:00:18,243 - EPOCH 21 - PROGRESS: at 28.25% examples, 135248 words/s, in_qsize 5, out_qsize 0\n",
            "2022-05-21 17:00:19,289 - EPOCH 21 - PROGRESS: at 58.03% examples, 138402 words/s, in_qsize 4, out_qsize 1\n",
            "2022-05-21 17:00:20,348 - EPOCH 21 - PROGRESS: at 89.43% examples, 141494 words/s, in_qsize 5, out_qsize 0\n",
            "2022-05-21 17:00:20,581 - worker thread finished; awaiting finish of 2 more threads\n",
            "2022-05-21 17:00:20,613 - worker thread finished; awaiting finish of 1 more threads\n",
            "2022-05-21 17:00:20,652 - worker thread finished; awaiting finish of 0 more threads\n",
            "2022-05-21 17:00:20,654 - EPOCH - 21 : training on 604214 raw words (497458 effective words) took 3.4s, 144333 effective words/s\n",
            "2022-05-21 17:00:21,700 - EPOCH 22 - PROGRESS: at 28.25% examples, 136339 words/s, in_qsize 5, out_qsize 0\n",
            "2022-05-21 17:00:22,706 - EPOCH 22 - PROGRESS: at 58.03% examples, 141736 words/s, in_qsize 6, out_qsize 0\n",
            "2022-05-21 17:00:23,724 - EPOCH 22 - PROGRESS: at 86.12% examples, 140357 words/s, in_qsize 5, out_qsize 0\n",
            "2022-05-21 17:00:24,046 - worker thread finished; awaiting finish of 2 more threads\n",
            "2022-05-21 17:00:24,075 - worker thread finished; awaiting finish of 1 more threads\n",
            "2022-05-21 17:00:24,113 - worker thread finished; awaiting finish of 0 more threads\n",
            "2022-05-21 17:00:24,115 - EPOCH - 22 : training on 604214 raw words (497693 effective words) took 3.4s, 144595 effective words/s\n",
            "2022-05-21 17:00:25,199 - EPOCH 23 - PROGRESS: at 29.92% examples, 138419 words/s, in_qsize 5, out_qsize 0\n",
            "2022-05-21 17:00:26,247 - EPOCH 23 - PROGRESS: at 59.67% examples, 139787 words/s, in_qsize 6, out_qsize 0\n",
            "2022-05-21 17:00:27,315 - EPOCH 23 - PROGRESS: at 92.74% examples, 144656 words/s, in_qsize 5, out_qsize 0\n",
            "2022-05-21 17:00:27,435 - worker thread finished; awaiting finish of 2 more threads\n",
            "2022-05-21 17:00:27,473 - worker thread finished; awaiting finish of 1 more threads\n",
            "2022-05-21 17:00:27,510 - worker thread finished; awaiting finish of 0 more threads\n",
            "2022-05-21 17:00:27,512 - EPOCH - 23 : training on 604214 raw words (497675 effective words) took 3.4s, 147047 effective words/s\n",
            "2022-05-21 17:00:28,592 - EPOCH 24 - PROGRESS: at 29.92% examples, 141342 words/s, in_qsize 5, out_qsize 0\n",
            "2022-05-21 17:00:29,631 - EPOCH 24 - PROGRESS: at 59.69% examples, 141949 words/s, in_qsize 5, out_qsize 0\n",
            "2022-05-21 17:00:30,635 - EPOCH 24 - PROGRESS: at 89.42% examples, 143791 words/s, in_qsize 5, out_qsize 0\n",
            "2022-05-21 17:00:30,835 - worker thread finished; awaiting finish of 2 more threads\n",
            "2022-05-21 17:00:30,880 - worker thread finished; awaiting finish of 1 more threads\n",
            "2022-05-21 17:00:30,937 - worker thread finished; awaiting finish of 0 more threads\n",
            "2022-05-21 17:00:30,939 - EPOCH - 24 : training on 604214 raw words (497886 effective words) took 3.4s, 146556 effective words/s\n",
            "2022-05-21 17:00:32,023 - EPOCH 25 - PROGRESS: at 28.25% examples, 130790 words/s, in_qsize 5, out_qsize 0\n",
            "2022-05-21 17:00:33,136 - EPOCH 25 - PROGRESS: at 61.35% examples, 139554 words/s, in_qsize 5, out_qsize 0\n",
            "2022-05-21 17:00:34,188 - EPOCH 25 - PROGRESS: at 94.37% examples, 145078 words/s, in_qsize 4, out_qsize 0\n",
            "2022-05-21 17:00:34,281 - worker thread finished; awaiting finish of 2 more threads\n",
            "2022-05-21 17:00:34,319 - worker thread finished; awaiting finish of 1 more threads\n",
            "2022-05-21 17:00:34,332 - worker thread finished; awaiting finish of 0 more threads\n",
            "2022-05-21 17:00:34,333 - EPOCH - 25 : training on 604214 raw words (497691 effective words) took 3.4s, 147218 effective words/s\n",
            "2022-05-21 17:00:35,440 - EPOCH 26 - PROGRESS: at 29.92% examples, 135538 words/s, in_qsize 5, out_qsize 1\n",
            "2022-05-21 17:00:36,474 - EPOCH 26 - PROGRESS: at 61.33% examples, 143096 words/s, in_qsize 5, out_qsize 0\n",
            "2022-05-21 17:00:37,539 - EPOCH 26 - PROGRESS: at 92.72% examples, 144343 words/s, in_qsize 5, out_qsize 0\n",
            "2022-05-21 17:00:37,689 - worker thread finished; awaiting finish of 2 more threads\n",
            "2022-05-21 17:00:37,715 - worker thread finished; awaiting finish of 1 more threads\n",
            "2022-05-21 17:00:37,731 - worker thread finished; awaiting finish of 0 more threads\n",
            "2022-05-21 17:00:37,733 - EPOCH - 26 : training on 604214 raw words (497604 effective words) took 3.4s, 146918 effective words/s\n",
            "2022-05-21 17:00:38,813 - EPOCH 27 - PROGRESS: at 28.27% examples, 131090 words/s, in_qsize 6, out_qsize 0\n",
            "2022-05-21 17:00:39,829 - EPOCH 27 - PROGRESS: at 58.03% examples, 138257 words/s, in_qsize 5, out_qsize 0\n",
            "2022-05-21 17:00:40,837 - EPOCH 27 - PROGRESS: at 87.79% examples, 141101 words/s, in_qsize 5, out_qsize 0\n",
            "2022-05-21 17:00:41,125 - worker thread finished; awaiting finish of 2 more threads\n",
            "2022-05-21 17:00:41,160 - worker thread finished; awaiting finish of 1 more threads\n",
            "2022-05-21 17:00:41,167 - worker thread finished; awaiting finish of 0 more threads\n",
            "2022-05-21 17:00:41,169 - EPOCH - 27 : training on 604214 raw words (497557 effective words) took 3.4s, 145302 effective words/s\n",
            "2022-05-21 17:00:42,252 - EPOCH 28 - PROGRESS: at 29.92% examples, 138564 words/s, in_qsize 5, out_qsize 0\n",
            "2022-05-21 17:00:43,378 - EPOCH 28 - PROGRESS: at 61.36% examples, 138689 words/s, in_qsize 5, out_qsize 0\n",
            "2022-05-21 17:00:44,409 - EPOCH 28 - PROGRESS: at 92.74% examples, 142827 words/s, in_qsize 5, out_qsize 0\n",
            "2022-05-21 17:00:44,554 - worker thread finished; awaiting finish of 2 more threads\n",
            "2022-05-21 17:00:44,572 - worker thread finished; awaiting finish of 1 more threads\n",
            "2022-05-21 17:00:44,609 - worker thread finished; awaiting finish of 0 more threads\n",
            "2022-05-21 17:00:44,611 - EPOCH - 28 : training on 604214 raw words (497447 effective words) took 3.4s, 145081 effective words/s\n",
            "2022-05-21 17:00:45,656 - EPOCH 29 - PROGRESS: at 29.92% examples, 143956 words/s, in_qsize 5, out_qsize 0\n",
            "2022-05-21 17:00:46,670 - EPOCH 29 - PROGRESS: at 59.69% examples, 145053 words/s, in_qsize 5, out_qsize 0\n",
            "2022-05-21 17:00:47,749 - EPOCH 29 - PROGRESS: at 91.09% examples, 144972 words/s, in_qsize 5, out_qsize 0\n",
            "2022-05-21 17:00:47,915 - worker thread finished; awaiting finish of 2 more threads\n",
            "2022-05-21 17:00:47,957 - worker thread finished; awaiting finish of 1 more threads\n",
            "2022-05-21 17:00:47,964 - worker thread finished; awaiting finish of 0 more threads\n",
            "2022-05-21 17:00:47,967 - EPOCH - 29 : training on 604214 raw words (497572 effective words) took 3.3s, 148897 effective words/s\n",
            "2022-05-21 17:00:49,006 - EPOCH 30 - PROGRESS: at 29.92% examples, 145906 words/s, in_qsize 5, out_qsize 0\n",
            "2022-05-21 17:00:50,033 - EPOCH 30 - PROGRESS: at 61.33% examples, 149050 words/s, in_qsize 5, out_qsize 0\n",
            "2022-05-21 17:00:51,151 - EPOCH 30 - PROGRESS: at 92.74% examples, 145852 words/s, in_qsize 5, out_qsize 0\n",
            "2022-05-21 17:00:51,280 - worker thread finished; awaiting finish of 2 more threads\n",
            "2022-05-21 17:00:51,306 - worker thread finished; awaiting finish of 1 more threads\n",
            "2022-05-21 17:00:51,318 - worker thread finished; awaiting finish of 0 more threads\n",
            "2022-05-21 17:00:51,319 - EPOCH - 30 : training on 604214 raw words (497627 effective words) took 3.3s, 149432 effective words/s\n",
            "2022-05-21 17:00:51,320 - training on a 18126420 raw words (14927359 effective words) took 105.4s, 141652 effective words/s\n"
          ]
        },
        {
          "output_type": "execute_result",
          "data": {
            "text/plain": [
              "(14927359, 18126420)"
            ]
          },
          "metadata": {},
          "execution_count": 43
        }
      ]
    },
    {
      "cell_type": "code",
      "source": [
        "modelo_w2v.wv.most_similar('ferrari')"
      ],
      "metadata": {
        "colab": {
          "base_uri": "https://localhost:8080/"
        },
        "id": "_bhJSK2rkT4d",
        "outputId": "e8520ab9-d106-42e3-e828-423bde5d3090"
      },
      "execution_count": 44,
      "outputs": [
        {
          "output_type": "execute_result",
          "data": {
            "text/plain": [
              "[('leclerc', 0.7298225164413452),\n",
              " ('sainz', 0.6480276584625244),\n",
              " ('verstappen', 0.6208952069282532),\n",
              " ('bahrein', 0.5997858047485352),\n",
              " ('obradoiro', 0.5260280966758728),\n",
              " ('pole', 0.5216978788375854),\n",
              " ('hyundai', 0.507645845413208),\n",
              " ('position', 0.5043960809707642),\n",
              " ('australia', 0.5037184953689575),\n",
              " ('memphis', 0.48718520998954773)]"
            ]
          },
          "metadata": {},
          "execution_count": 44
        }
      ]
    },
    {
      "cell_type": "code",
      "source": [
        "modelo_w2v_sg.wv.most_similar('ferrari')"
      ],
      "metadata": {
        "colab": {
          "base_uri": "https://localhost:8080/"
        },
        "id": "j01ziKEPkT89",
        "outputId": "88be2045-860c-4742-aec2-df0b3495b11f"
      },
      "execution_count": 45,
      "outputs": [
        {
          "output_type": "stream",
          "name": "stderr",
          "text": [
            "2022-05-21 17:03:15,045 - precomputing L2-norms of word weight vectors\n"
          ]
        },
        {
          "output_type": "execute_result",
          "data": {
            "text/plain": [
              "[('sainz', 0.7075117230415344),\n",
              " ('leclerc', 0.684792160987854),\n",
              " ('bahrein', 0.5940914750099182),\n",
              " ('verstappen', 0.5722754001617432),\n",
              " ('position', 0.5639119148254395),\n",
              " ('baréin', 0.5567221641540527),\n",
              " ('bull', 0.5490049123764038),\n",
              " ('pole', 0.5217989087104797),\n",
              " ('charles', 0.49677011370658875),\n",
              " ('bahréin', 0.4868166148662567)]"
            ]
          },
          "metadata": {},
          "execution_count": 45
        }
      ]
    },
    {
      "cell_type": "code",
      "source": [
        "modelo_w2v.wv.most_similar('google')"
      ],
      "metadata": {
        "colab": {
          "base_uri": "https://localhost:8080/"
        },
        "id": "cvPxyLFEkUEI",
        "outputId": "86c54ce6-de61-4653-ea3d-cc6dd2bdf2da"
      },
      "execution_count": 46,
      "outputs": [
        {
          "output_type": "execute_result",
          "data": {
            "text/plain": [
              "[('maps', 0.6369116902351379),\n",
              " ('comandos', 0.5456988215446472),\n",
              " ('android', 0.535834789276123),\n",
              " ('chrome', 0.5238631367683411),\n",
              " ('apple', 0.49066129326820374),\n",
              " ('youtube', 0.4783938527107239),\n",
              " ('aplicación', 0.4661206901073456),\n",
              " ('gmail', 0.46569114923477173),\n",
              " ('emojis', 0.4551786482334137),\n",
              " ('búsquedas', 0.45385390520095825)]"
            ]
          },
          "metadata": {},
          "execution_count": 46
        }
      ]
    },
    {
      "cell_type": "code",
      "source": [
        "modelo_w2v_sg.wv.most_similar('google')"
      ],
      "metadata": {
        "colab": {
          "base_uri": "https://localhost:8080/"
        },
        "id": "bx9qeyHfkbfn",
        "outputId": "9a9ad620-e2a3-4d2e-b622-6121e2b26db1"
      },
      "execution_count": 47,
      "outputs": [
        {
          "output_type": "execute_result",
          "data": {
            "text/plain": [
              "[('maps', 0.6980351209640503),\n",
              " ('chrome', 0.5779889822006226),\n",
              " ('doodle', 0.5422887206077576),\n",
              " ('caffarena', 0.48039737343788147),\n",
              " ('búsquedas', 0.46368515491485596),\n",
              " ('desenfocar', 0.45587313175201416),\n",
              " ('apk', 0.44785791635513306),\n",
              " ('desarrolladores', 0.447754442691803),\n",
              " ('chromebook', 0.4472600817680359),\n",
              " ('gmail', 0.4441489577293396)]"
            ]
          },
          "metadata": {},
          "execution_count": 47
        }
      ]
    },
    {
      "cell_type": "code",
      "source": [
        "modelo_w2v.wv.save_word2vec_format('/content/drive/MyDrive/word2vec/modelo_cbow_300.txt', binary=False)\n",
        "modelo_w2v_sg.wv.save_word2vec_format('/content/drive/MyDrive/word2vec/modelo_sg_300.txt', binary=False)"
      ],
      "metadata": {
        "colab": {
          "base_uri": "https://localhost:8080/"
        },
        "id": "P0lVZOJtnmrb",
        "outputId": "9085a76d-5892-47d9-d75e-5f91595f069c"
      },
      "execution_count": 63,
      "outputs": [
        {
          "output_type": "stream",
          "name": "stderr",
          "text": [
            "2022-05-21 19:33:12,226 - storing 14832x300 projection weights into /content/drive/MyDrive/word2vec/modelo_cbow_300.txt\n",
            "2022-05-21 19:33:15,532 - storing 14832x300 projection weights into /content/drive/MyDrive/word2vec/modelo_sg_300.txt\n"
          ]
        }
      ]
    },
    {
      "cell_type": "markdown",
      "source": [
        "## Aula 5"
      ],
      "metadata": {
        "id": "LwHxPZgjcRHg"
      }
    },
    {
      "cell_type": "markdown",
      "source": [
        "### 5.1 Iniciando el clasificador"
      ],
      "metadata": {
        "id": "1uo1Ui1vcTm3"
      }
    },
    {
      "cell_type": "code",
      "source": [
        ""
      ],
      "metadata": {
        "id": "Ch5rHrxuyQii"
      },
      "execution_count": null,
      "outputs": []
    },
    {
      "cell_type": "markdown",
      "source": [
        "### 5.2 Combinación de vectores"
      ],
      "metadata": {
        "id": "fQgvCxlqcYvz"
      }
    },
    {
      "cell_type": "code",
      "source": [
        ""
      ],
      "metadata": {
        "id": "d03ZMD_CyL0B"
      },
      "execution_count": null,
      "outputs": []
    },
    {
      "cell_type": "markdown",
      "source": [
        "### 5.3 Vectorizando los titulares"
      ],
      "metadata": {
        "id": "gvWhQb_Dcd11"
      }
    },
    {
      "cell_type": "code",
      "source": [
        ""
      ],
      "metadata": {
        "id": "n63vwy5NyH2U"
      },
      "execution_count": null,
      "outputs": []
    },
    {
      "cell_type": "markdown",
      "source": [
        "## Aula 6"
      ],
      "metadata": {
        "id": "Augs1iQxcvC5"
      }
    },
    {
      "cell_type": "markdown",
      "source": [
        "### 6.1 Clasificando los titulares"
      ],
      "metadata": {
        "id": "CYssFj2rcw7e"
      }
    },
    {
      "cell_type": "code",
      "source": [
        ""
      ],
      "metadata": {
        "id": "SZ5cQsJnx2_D"
      },
      "execution_count": null,
      "outputs": []
    },
    {
      "cell_type": "markdown",
      "source": [
        "### 6.2 Comparando los modelos"
      ],
      "metadata": {
        "id": "5tq_MJlXc4AS"
      }
    },
    {
      "cell_type": "code",
      "source": [
        ""
      ],
      "metadata": {
        "id": "vtOS4Sm_PgNA"
      },
      "execution_count": null,
      "outputs": []
    }
  ]
}